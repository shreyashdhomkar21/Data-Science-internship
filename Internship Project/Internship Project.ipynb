{
 "cells": [
  {
   "cell_type": "code",
   "execution_count": 1,
   "id": "3c79bc9c-7790-43e3-9c07-b62a047d507f",
   "metadata": {},
   "outputs": [],
   "source": [
    "# Programmer : Shreyash Dhomkar\n",
    "# College : Keystone SOE\n",
    "# Class : TE\n",
    "# Roll No : 57\n",
    "# Problem Statement No : 1"
   ]
  },
  {
   "cell_type": "code",
   "execution_count": 2,
   "id": "f9a28d2f-d758-4761-9928-0d95d6ca4802",
   "metadata": {},
   "outputs": [],
   "source": [
    "import pandas as pd\n",
    "import numpy as np\n",
    "import matplotlib.pyplot as plt\n",
    "import seaborn as sns\n",
    "import warnings\n",
    "warnings.filterwarnings(\"ignore\")"
   ]
  },
  {
   "cell_type": "code",
   "execution_count": 3,
   "id": "e23b6ec8-30c6-44e1-9a21-d8080cfb1deb",
   "metadata": {},
   "outputs": [],
   "source": [
    "df= pd.read_csv(\"MoviesOnStreamingPlatforms.csv\")"
   ]
  },
  {
   "cell_type": "code",
   "execution_count": 4,
   "id": "ba9fb450-5568-43a8-b7ac-e9a683cc0443",
   "metadata": {},
   "outputs": [
    {
     "data": {
      "text/html": [
       "<div>\n",
       "<style scoped>\n",
       "    .dataframe tbody tr th:only-of-type {\n",
       "        vertical-align: middle;\n",
       "    }\n",
       "\n",
       "    .dataframe tbody tr th {\n",
       "        vertical-align: top;\n",
       "    }\n",
       "\n",
       "    .dataframe thead th {\n",
       "        text-align: right;\n",
       "    }\n",
       "</style>\n",
       "<table border=\"1\" class=\"dataframe\">\n",
       "  <thead>\n",
       "    <tr style=\"text-align: right;\">\n",
       "      <th></th>\n",
       "      <th>Unnamed: 0</th>\n",
       "      <th>ID</th>\n",
       "      <th>Title</th>\n",
       "      <th>Year</th>\n",
       "      <th>Age</th>\n",
       "      <th>Rotten Tomatoes</th>\n",
       "      <th>Netflix</th>\n",
       "      <th>Hulu</th>\n",
       "      <th>Prime Video</th>\n",
       "      <th>Disney+</th>\n",
       "      <th>Type</th>\n",
       "    </tr>\n",
       "  </thead>\n",
       "  <tbody>\n",
       "    <tr>\n",
       "      <th>0</th>\n",
       "      <td>0</td>\n",
       "      <td>1</td>\n",
       "      <td>The Irishman</td>\n",
       "      <td>2019</td>\n",
       "      <td>18+</td>\n",
       "      <td>98/100</td>\n",
       "      <td>1</td>\n",
       "      <td>0</td>\n",
       "      <td>0</td>\n",
       "      <td>0</td>\n",
       "      <td>0</td>\n",
       "    </tr>\n",
       "    <tr>\n",
       "      <th>1</th>\n",
       "      <td>1</td>\n",
       "      <td>2</td>\n",
       "      <td>Dangal</td>\n",
       "      <td>2016</td>\n",
       "      <td>7+</td>\n",
       "      <td>97/100</td>\n",
       "      <td>1</td>\n",
       "      <td>0</td>\n",
       "      <td>0</td>\n",
       "      <td>0</td>\n",
       "      <td>0</td>\n",
       "    </tr>\n",
       "    <tr>\n",
       "      <th>2</th>\n",
       "      <td>2</td>\n",
       "      <td>3</td>\n",
       "      <td>David Attenborough: A Life on Our Planet</td>\n",
       "      <td>2020</td>\n",
       "      <td>7+</td>\n",
       "      <td>95/100</td>\n",
       "      <td>1</td>\n",
       "      <td>0</td>\n",
       "      <td>0</td>\n",
       "      <td>0</td>\n",
       "      <td>0</td>\n",
       "    </tr>\n",
       "    <tr>\n",
       "      <th>3</th>\n",
       "      <td>3</td>\n",
       "      <td>4</td>\n",
       "      <td>Lagaan: Once Upon a Time in India</td>\n",
       "      <td>2001</td>\n",
       "      <td>7+</td>\n",
       "      <td>94/100</td>\n",
       "      <td>1</td>\n",
       "      <td>0</td>\n",
       "      <td>0</td>\n",
       "      <td>0</td>\n",
       "      <td>0</td>\n",
       "    </tr>\n",
       "    <tr>\n",
       "      <th>4</th>\n",
       "      <td>4</td>\n",
       "      <td>5</td>\n",
       "      <td>Roma</td>\n",
       "      <td>2018</td>\n",
       "      <td>18+</td>\n",
       "      <td>94/100</td>\n",
       "      <td>1</td>\n",
       "      <td>0</td>\n",
       "      <td>0</td>\n",
       "      <td>0</td>\n",
       "      <td>0</td>\n",
       "    </tr>\n",
       "  </tbody>\n",
       "</table>\n",
       "</div>"
      ],
      "text/plain": [
       "   Unnamed: 0  ID                                     Title  Year  Age  \\\n",
       "0           0   1                              The Irishman  2019  18+   \n",
       "1           1   2                                    Dangal  2016   7+   \n",
       "2           2   3  David Attenborough: A Life on Our Planet  2020   7+   \n",
       "3           3   4         Lagaan: Once Upon a Time in India  2001   7+   \n",
       "4           4   5                                      Roma  2018  18+   \n",
       "\n",
       "  Rotten Tomatoes  Netflix  Hulu  Prime Video  Disney+  Type  \n",
       "0          98/100        1     0            0        0     0  \n",
       "1          97/100        1     0            0        0     0  \n",
       "2          95/100        1     0            0        0     0  \n",
       "3          94/100        1     0            0        0     0  \n",
       "4          94/100        1     0            0        0     0  "
      ]
     },
     "execution_count": 4,
     "metadata": {},
     "output_type": "execute_result"
    }
   ],
   "source": [
    "df.head()"
   ]
  },
  {
   "cell_type": "code",
   "execution_count": 5,
   "id": "facab5f0-7b7d-47c2-bb29-dc615f021a8a",
   "metadata": {},
   "outputs": [
    {
     "data": {
      "text/plain": [
       "(9515, 11)"
      ]
     },
     "execution_count": 5,
     "metadata": {},
     "output_type": "execute_result"
    }
   ],
   "source": [
    "df.shape"
   ]
  },
  {
   "cell_type": "code",
   "execution_count": 6,
   "id": "cc153504-74af-4a13-9fdf-4b5129cefacc",
   "metadata": {},
   "outputs": [
    {
     "name": "stdout",
     "output_type": "stream",
     "text": [
      "<class 'pandas.core.frame.DataFrame'>\n",
      "RangeIndex: 9515 entries, 0 to 9514\n",
      "Data columns (total 11 columns):\n",
      " #   Column           Non-Null Count  Dtype \n",
      "---  ------           --------------  ----- \n",
      " 0   Unnamed: 0       9515 non-null   int64 \n",
      " 1   ID               9515 non-null   int64 \n",
      " 2   Title            9515 non-null   object\n",
      " 3   Year             9515 non-null   int64 \n",
      " 4   Age              5338 non-null   object\n",
      " 5   Rotten Tomatoes  9508 non-null   object\n",
      " 6   Netflix          9515 non-null   int64 \n",
      " 7   Hulu             9515 non-null   int64 \n",
      " 8   Prime Video      9515 non-null   int64 \n",
      " 9   Disney+          9515 non-null   int64 \n",
      " 10  Type             9515 non-null   int64 \n",
      "dtypes: int64(8), object(3)\n",
      "memory usage: 817.8+ KB\n"
     ]
    }
   ],
   "source": [
    "df.info()"
   ]
  },
  {
   "cell_type": "markdown",
   "id": "b7760258-c51a-4631-a656-18f028c800b6",
   "metadata": {},
   "source": [
    "### 1. Count the total number of Adult movies and print."
   ]
  },
  {
   "cell_type": "code",
   "execution_count": 7,
   "id": "51043b18-11c3-4061-a748-c77668755003",
   "metadata": {},
   "outputs": [
    {
     "name": "stdout",
     "output_type": "stream",
     "text": [
      "Total Adult movies: 2276\n"
     ]
    }
   ],
   "source": [
    "total_adult_movies = df[df['Age'] == '18+'].shape[0]\n",
    "print(\"Total Adult movies:\", total_adult_movies)"
   ]
  },
  {
   "cell_type": "markdown",
   "id": "e3a70de9-a535-492e-8159-3d7e598fbebb",
   "metadata": {},
   "source": [
    "###  2. What is the average rating given by rotten tomatoes to movies released in year 2018"
   ]
  },
  {
   "cell_type": "code",
   "execution_count": 8,
   "id": "28d7c612-b9a5-41e0-b3cb-751549ec7f91",
   "metadata": {},
   "outputs": [
    {
     "data": {
      "text/plain": [
       "array(['98/100', '97/100', '95/100', '94/100', '93/100', '92/100',\n",
       "       '91/100', '90/100', '89/100', '88/100', '87/100', '86/100',\n",
       "       '85/100', '84/100', '83/100', '82/100', '81/100', '80/100',\n",
       "       '79/100', '78/100', '77/100', '76/100', '75/100', '74/100',\n",
       "       '73/100', '72/100', '71/100', '70/100', '69/100', '68/100',\n",
       "       '67/100', '66/100', '65/100', '64/100', '63/100', '62/100',\n",
       "       '61/100', '60/100', '59/100', '58/100', '57/100', '56/100',\n",
       "       '55/100', '54/100', '53/100', '52/100', '51/100', '50/100',\n",
       "       '49/100', '48/100', '47/100', '46/100', '45/100', '44/100',\n",
       "       '43/100', '42/100', '41/100', '40/100', '39/100', '38/100',\n",
       "       '37/100', '36/100', '35/100', '34/100', '33/100', '32/100',\n",
       "       '31/100', '30/100', '29/100', '28/100', '27/100', '24/100',\n",
       "       '23/100', '21/100', '20/100', '17/100', '16/100', '15/100',\n",
       "       '14/100', '13/100', '12/100', '10/100', nan, '26/100', '19/100',\n",
       "       '96/100'], dtype=object)"
      ]
     },
     "execution_count": 8,
     "metadata": {},
     "output_type": "execute_result"
    }
   ],
   "source": [
    "df['Rotten Tomatoes'].unique()"
   ]
  },
  {
   "cell_type": "code",
   "execution_count": 9,
   "id": "1e30e256-3b86-44f6-a4d4-b2648d02ca09",
   "metadata": {},
   "outputs": [
    {
     "data": {
      "text/plain": [
       "array(['98', '97', '95', '94', '93', '92', '91', '90', '89', '88', '87',\n",
       "       '86', '85', '84', '83', '82', '81', '80', '79', '78', '77', '76',\n",
       "       '75', '74', '73', '72', '71', '70', '69', '68', '67', '66', '65',\n",
       "       '64', '63', '62', '61', '60', '59', '58', '57', '56', '55', '54',\n",
       "       '53', '52', '51', '50', '49', '48', '47', '46', '45', '44', '43',\n",
       "       '42', '41', '40', '39', '38', '37', '36', '35', '34', '33', '32',\n",
       "       '31', '30', '29', '28', '27', '24', '23', '21', '20', '17', '16',\n",
       "       '15', '14', '13', '12', '10', nan, '26', '19', '96'], dtype=object)"
      ]
     },
     "execution_count": 9,
     "metadata": {},
     "output_type": "execute_result"
    }
   ],
   "source": [
    "df['Rotten Tomatoes'] = df['Rotten Tomatoes'].str.replace('/100', '')\n",
    "df['Rotten Tomatoes'].unique()"
   ]
  },
  {
   "cell_type": "code",
   "execution_count": 10,
   "id": "4996bf4a-f7ee-4496-a0e6-4ebd554b7c54",
   "metadata": {},
   "outputs": [],
   "source": [
    "df.dropna(subset=['Rotten Tomatoes'], inplace=True)"
   ]
  },
  {
   "cell_type": "code",
   "execution_count": 11,
   "id": "8244dcd1-5900-467b-ac7f-85a41ff1d392",
   "metadata": {},
   "outputs": [],
   "source": [
    "df['Rotten Tomatoes'] = df['Rotten Tomatoes'].astype('int64')"
   ]
  },
  {
   "cell_type": "code",
   "execution_count": 12,
   "id": "84e4ec92-915a-46ca-9411-56c6ebd8c7c8",
   "metadata": {},
   "outputs": [
    {
     "name": "stdout",
     "output_type": "stream",
     "text": [
      "Average rating of movies released in 2018: 52.83474576271186\n"
     ]
    }
   ],
   "source": [
    "average_rating_2018 = df[df['Year'] == 2018]['Rotten Tomatoes'].mean()\n",
    "print(\"Average rating of movies released in 2018:\", average_rating_2018)"
   ]
  },
  {
   "cell_type": "markdown",
   "id": "6f7b775c-14f9-4bcd-a7ed-44faf0b3b242",
   "metadata": {},
   "source": [
    "### 3. Extract information of all the movies released on Prime Video and store in a csv file amazon.csv."
   ]
  },
  {
   "cell_type": "code",
   "execution_count": 13,
   "id": "177ee88f-6e3c-4ce1-aa75-fadb16c8a37d",
   "metadata": {},
   "outputs": [],
   "source": [
    "prime_video_movies = df[df['Prime Video'] == 1]\n",
    "prime_video_movies.to_csv('amazon.csv', index=False)"
   ]
  },
  {
   "cell_type": "code",
   "execution_count": 14,
   "id": "a4986a94-ac98-4270-8185-578ead70b7f4",
   "metadata": {},
   "outputs": [
    {
     "data": {
      "text/html": [
       "<div>\n",
       "<style scoped>\n",
       "    .dataframe tbody tr th:only-of-type {\n",
       "        vertical-align: middle;\n",
       "    }\n",
       "\n",
       "    .dataframe tbody tr th {\n",
       "        vertical-align: top;\n",
       "    }\n",
       "\n",
       "    .dataframe thead th {\n",
       "        text-align: right;\n",
       "    }\n",
       "</style>\n",
       "<table border=\"1\" class=\"dataframe\">\n",
       "  <thead>\n",
       "    <tr style=\"text-align: right;\">\n",
       "      <th></th>\n",
       "      <th>Unnamed: 0</th>\n",
       "      <th>ID</th>\n",
       "      <th>Title</th>\n",
       "      <th>Year</th>\n",
       "      <th>Age</th>\n",
       "      <th>Rotten Tomatoes</th>\n",
       "      <th>Netflix</th>\n",
       "      <th>Hulu</th>\n",
       "      <th>Prime Video</th>\n",
       "      <th>Disney+</th>\n",
       "      <th>Type</th>\n",
       "    </tr>\n",
       "  </thead>\n",
       "  <tbody>\n",
       "    <tr>\n",
       "      <th>116</th>\n",
       "      <td>116</td>\n",
       "      <td>117</td>\n",
       "      <td>The Terminal</td>\n",
       "      <td>2004</td>\n",
       "      <td>13+</td>\n",
       "      <td>82</td>\n",
       "      <td>1</td>\n",
       "      <td>0</td>\n",
       "      <td>1</td>\n",
       "      <td>0</td>\n",
       "      <td>0</td>\n",
       "    </tr>\n",
       "    <tr>\n",
       "      <th>155</th>\n",
       "      <td>155</td>\n",
       "      <td>156</td>\n",
       "      <td>Seven Pounds</td>\n",
       "      <td>2008</td>\n",
       "      <td>13+</td>\n",
       "      <td>80</td>\n",
       "      <td>1</td>\n",
       "      <td>0</td>\n",
       "      <td>1</td>\n",
       "      <td>0</td>\n",
       "      <td>0</td>\n",
       "    </tr>\n",
       "    <tr>\n",
       "      <th>158</th>\n",
       "      <td>158</td>\n",
       "      <td>159</td>\n",
       "      <td>Les Misérables</td>\n",
       "      <td>2012</td>\n",
       "      <td>13+</td>\n",
       "      <td>80</td>\n",
       "      <td>1</td>\n",
       "      <td>0</td>\n",
       "      <td>1</td>\n",
       "      <td>0</td>\n",
       "      <td>0</td>\n",
       "    </tr>\n",
       "    <tr>\n",
       "      <th>184</th>\n",
       "      <td>184</td>\n",
       "      <td>185</td>\n",
       "      <td>Underworld</td>\n",
       "      <td>2003</td>\n",
       "      <td>18+</td>\n",
       "      <td>79</td>\n",
       "      <td>1</td>\n",
       "      <td>1</td>\n",
       "      <td>1</td>\n",
       "      <td>0</td>\n",
       "      <td>0</td>\n",
       "    </tr>\n",
       "    <tr>\n",
       "      <th>185</th>\n",
       "      <td>185</td>\n",
       "      <td>186</td>\n",
       "      <td>The Ring</td>\n",
       "      <td>2002</td>\n",
       "      <td>13+</td>\n",
       "      <td>79</td>\n",
       "      <td>1</td>\n",
       "      <td>0</td>\n",
       "      <td>1</td>\n",
       "      <td>0</td>\n",
       "      <td>0</td>\n",
       "    </tr>\n",
       "    <tr>\n",
       "      <th>...</th>\n",
       "      <td>...</td>\n",
       "      <td>...</td>\n",
       "      <td>...</td>\n",
       "      <td>...</td>\n",
       "      <td>...</td>\n",
       "      <td>...</td>\n",
       "      <td>...</td>\n",
       "      <td>...</td>\n",
       "      <td>...</td>\n",
       "      <td>...</td>\n",
       "      <td>...</td>\n",
       "    </tr>\n",
       "    <tr>\n",
       "      <th>8610</th>\n",
       "      <td>8610</td>\n",
       "      <td>8611</td>\n",
       "      <td>Arthur and the Haunted Tree House</td>\n",
       "      <td>2017</td>\n",
       "      <td>NaN</td>\n",
       "      <td>13</td>\n",
       "      <td>0</td>\n",
       "      <td>0</td>\n",
       "      <td>1</td>\n",
       "      <td>0</td>\n",
       "      <td>0</td>\n",
       "    </tr>\n",
       "    <tr>\n",
       "      <th>8611</th>\n",
       "      <td>8611</td>\n",
       "      <td>8612</td>\n",
       "      <td>Rollin: The Fall of the Auto Industry and the ...</td>\n",
       "      <td>2016</td>\n",
       "      <td>NaN</td>\n",
       "      <td>13</td>\n",
       "      <td>0</td>\n",
       "      <td>0</td>\n",
       "      <td>1</td>\n",
       "      <td>0</td>\n",
       "      <td>0</td>\n",
       "    </tr>\n",
       "    <tr>\n",
       "      <th>8612</th>\n",
       "      <td>8612</td>\n",
       "      <td>8613</td>\n",
       "      <td>The Fairies: Fairy Beach</td>\n",
       "      <td>2007</td>\n",
       "      <td>all</td>\n",
       "      <td>12</td>\n",
       "      <td>0</td>\n",
       "      <td>0</td>\n",
       "      <td>1</td>\n",
       "      <td>0</td>\n",
       "      <td>0</td>\n",
       "    </tr>\n",
       "    <tr>\n",
       "      <th>8613</th>\n",
       "      <td>8613</td>\n",
       "      <td>8614</td>\n",
       "      <td>5K1-States Evidence</td>\n",
       "      <td>2018</td>\n",
       "      <td>NaN</td>\n",
       "      <td>12</td>\n",
       "      <td>0</td>\n",
       "      <td>0</td>\n",
       "      <td>1</td>\n",
       "      <td>0</td>\n",
       "      <td>0</td>\n",
       "    </tr>\n",
       "    <tr>\n",
       "      <th>8614</th>\n",
       "      <td>8614</td>\n",
       "      <td>8615</td>\n",
       "      <td>Fire Lines</td>\n",
       "      <td>2014</td>\n",
       "      <td>13+</td>\n",
       "      <td>12</td>\n",
       "      <td>0</td>\n",
       "      <td>0</td>\n",
       "      <td>1</td>\n",
       "      <td>0</td>\n",
       "      <td>0</td>\n",
       "    </tr>\n",
       "  </tbody>\n",
       "</table>\n",
       "<p>4113 rows × 11 columns</p>\n",
       "</div>"
      ],
      "text/plain": [
       "      Unnamed: 0    ID                                              Title  \\\n",
       "116          116   117                                       The Terminal   \n",
       "155          155   156                                       Seven Pounds   \n",
       "158          158   159                                     Les Misérables   \n",
       "184          184   185                                         Underworld   \n",
       "185          185   186                                           The Ring   \n",
       "...          ...   ...                                                ...   \n",
       "8610        8610  8611                  Arthur and the Haunted Tree House   \n",
       "8611        8611  8612  Rollin: The Fall of the Auto Industry and the ...   \n",
       "8612        8612  8613                           The Fairies: Fairy Beach   \n",
       "8613        8613  8614                                5K1-States Evidence   \n",
       "8614        8614  8615                                         Fire Lines   \n",
       "\n",
       "      Year  Age  Rotten Tomatoes  Netflix  Hulu  Prime Video  Disney+  Type  \n",
       "116   2004  13+               82        1     0            1        0     0  \n",
       "155   2008  13+               80        1     0            1        0     0  \n",
       "158   2012  13+               80        1     0            1        0     0  \n",
       "184   2003  18+               79        1     1            1        0     0  \n",
       "185   2002  13+               79        1     0            1        0     0  \n",
       "...    ...  ...              ...      ...   ...          ...      ...   ...  \n",
       "8610  2017  NaN               13        0     0            1        0     0  \n",
       "8611  2016  NaN               13        0     0            1        0     0  \n",
       "8612  2007  all               12        0     0            1        0     0  \n",
       "8613  2018  NaN               12        0     0            1        0     0  \n",
       "8614  2014  13+               12        0     0            1        0     0  \n",
       "\n",
       "[4113 rows x 11 columns]"
      ]
     },
     "execution_count": 14,
     "metadata": {},
     "output_type": "execute_result"
    }
   ],
   "source": [
    "prime_video_movies"
   ]
  },
  {
   "cell_type": "markdown",
   "id": "9d3bdfb2-e23e-40b5-8726-f5016ac1fd75",
   "metadata": {},
   "source": [
    "###  4. Find all the movie names where age group is not mentioned."
   ]
  },
  {
   "cell_type": "code",
   "execution_count": 15,
   "id": "a03bca0c-f918-4115-a9d3-f6b437a27923",
   "metadata": {},
   "outputs": [
    {
     "name": "stdout",
     "output_type": "stream",
     "text": [
      "Movies with no age group mentioned:\n"
     ]
    },
    {
     "data": {
      "text/plain": [
       "35                            On Body and Soul\n",
       "40                                  Special 26\n",
       "57                   The Distinguished Citizen\n",
       "65                               Chasing Coral\n",
       "88                 What Happened, Miss Simone?\n",
       "                         ...                  \n",
       "9509    Built for Mars: The Perseverance Rover\n",
       "9510                        Most Wanted Sharks\n",
       "9511             Doc McStuffins: The Doc Is In\n",
       "9512                     Ultimate Viking Sword\n",
       "9513           Hunt for the Abominable Snowman\n",
       "Name: Title, Length: 4170, dtype: object"
      ]
     },
     "execution_count": 15,
     "metadata": {},
     "output_type": "execute_result"
    }
   ],
   "source": [
    "movies_with_no_age_group = df[df['Age'].isna()]['Title']\n",
    "print(\"Movies with no age group mentioned:\")\n",
    "movies_with_no_age_group"
   ]
  },
  {
   "cell_type": "markdown",
   "id": "410ff091-776b-4f54-afd9-47414f0e417b",
   "metadata": {},
   "source": [
    "###  5. How many movies are available on multiple platforms?"
   ]
  },
  {
   "cell_type": "code",
   "execution_count": 16,
   "id": "b3b1af33-0fc0-486a-b296-312f23c96cd4",
   "metadata": {},
   "outputs": [
    {
     "name": "stdout",
     "output_type": "stream",
     "text": [
      "Number of movies available on multiple platforms: 253\n"
     ]
    }
   ],
   "source": [
    "multiple_platform_movies = df[(df['Netflix'] + df['Hulu'] + df['Prime Video'] + df['Disney+']) > 1].shape[0]\n",
    "print(\"Number of movies available on multiple platforms:\", multiple_platform_movies)"
   ]
  },
  {
   "cell_type": "markdown",
   "id": "7f373c3d-87e4-4f86-bef8-414bb5f95dc0",
   "metadata": {},
   "source": [
    "###  6. What is average rating of the movies released on Netflix in year 2010"
   ]
  },
  {
   "cell_type": "code",
   "execution_count": 17,
   "id": "5b218316-e6a7-44dd-a1e5-f5e4fcdb74fa",
   "metadata": {},
   "outputs": [
    {
     "name": "stdout",
     "output_type": "stream",
     "text": [
      "Average rating of movies released on Netflix in 2010: 58.75\n"
     ]
    }
   ],
   "source": [
    "average_rating_netflix_2010 = df[(df['Netflix'] == 1) & (df['Year'] == 2010)]['Rotten Tomatoes'].mean()\n",
    "print(\"Average rating of movies released on Netflix in 2010:\", average_rating_netflix_2010)"
   ]
  },
  {
   "cell_type": "markdown",
   "id": "7682499c-9c63-47cc-af23-06624f1c5a2e",
   "metadata": {},
   "source": [
    "### 7. Print the information of movies available on Disney plus for 13+ age."
   ]
  },
  {
   "cell_type": "code",
   "execution_count": 18,
   "id": "96a06858-cb07-499b-b890-7c65d67d1e32",
   "metadata": {},
   "outputs": [
    {
     "name": "stdout",
     "output_type": "stream",
     "text": [
      "Movies available on Disney+ for 13+ age:\n"
     ]
    },
    {
     "data": {
      "text/html": [
       "<div>\n",
       "<style scoped>\n",
       "    .dataframe tbody tr th:only-of-type {\n",
       "        vertical-align: middle;\n",
       "    }\n",
       "\n",
       "    .dataframe tbody tr th {\n",
       "        vertical-align: top;\n",
       "    }\n",
       "\n",
       "    .dataframe thead th {\n",
       "        text-align: right;\n",
       "    }\n",
       "</style>\n",
       "<table border=\"1\" class=\"dataframe\">\n",
       "  <thead>\n",
       "    <tr style=\"text-align: right;\">\n",
       "      <th></th>\n",
       "      <th>Unnamed: 0</th>\n",
       "      <th>ID</th>\n",
       "      <th>Title</th>\n",
       "      <th>Year</th>\n",
       "      <th>Age</th>\n",
       "      <th>Rotten Tomatoes</th>\n",
       "      <th>Netflix</th>\n",
       "      <th>Hulu</th>\n",
       "      <th>Prime Video</th>\n",
       "      <th>Disney+</th>\n",
       "      <th>Type</th>\n",
       "    </tr>\n",
       "  </thead>\n",
       "  <tbody>\n",
       "    <tr>\n",
       "      <th>4203</th>\n",
       "      <td>4203</td>\n",
       "      <td>4204</td>\n",
       "      <td>Teen Spirit</td>\n",
       "      <td>2019</td>\n",
       "      <td>13+</td>\n",
       "      <td>60</td>\n",
       "      <td>0</td>\n",
       "      <td>1</td>\n",
       "      <td>0</td>\n",
       "      <td>1</td>\n",
       "      <td>0</td>\n",
       "    </tr>\n",
       "    <tr>\n",
       "      <th>4863</th>\n",
       "      <td>4863</td>\n",
       "      <td>4864</td>\n",
       "      <td>Pinocchio</td>\n",
       "      <td>2019</td>\n",
       "      <td>13+</td>\n",
       "      <td>72</td>\n",
       "      <td>0</td>\n",
       "      <td>0</td>\n",
       "      <td>1</td>\n",
       "      <td>1</td>\n",
       "      <td>0</td>\n",
       "    </tr>\n",
       "    <tr>\n",
       "      <th>5613</th>\n",
       "      <td>5613</td>\n",
       "      <td>5614</td>\n",
       "      <td>Wind</td>\n",
       "      <td>1992</td>\n",
       "      <td>13+</td>\n",
       "      <td>58</td>\n",
       "      <td>0</td>\n",
       "      <td>0</td>\n",
       "      <td>1</td>\n",
       "      <td>1</td>\n",
       "      <td>0</td>\n",
       "    </tr>\n",
       "    <tr>\n",
       "      <th>8616</th>\n",
       "      <td>8616</td>\n",
       "      <td>8617</td>\n",
       "      <td>Avengers: Endgame</td>\n",
       "      <td>2019</td>\n",
       "      <td>13+</td>\n",
       "      <td>90</td>\n",
       "      <td>0</td>\n",
       "      <td>0</td>\n",
       "      <td>0</td>\n",
       "      <td>1</td>\n",
       "      <td>0</td>\n",
       "    </tr>\n",
       "    <tr>\n",
       "      <th>8617</th>\n",
       "      <td>8617</td>\n",
       "      <td>8618</td>\n",
       "      <td>Avengers: Infinity War</td>\n",
       "      <td>2018</td>\n",
       "      <td>13+</td>\n",
       "      <td>90</td>\n",
       "      <td>0</td>\n",
       "      <td>0</td>\n",
       "      <td>0</td>\n",
       "      <td>1</td>\n",
       "      <td>0</td>\n",
       "    </tr>\n",
       "    <tr>\n",
       "      <th>...</th>\n",
       "      <td>...</td>\n",
       "      <td>...</td>\n",
       "      <td>...</td>\n",
       "      <td>...</td>\n",
       "      <td>...</td>\n",
       "      <td>...</td>\n",
       "      <td>...</td>\n",
       "      <td>...</td>\n",
       "      <td>...</td>\n",
       "      <td>...</td>\n",
       "      <td>...</td>\n",
       "    </tr>\n",
       "    <tr>\n",
       "      <th>9479</th>\n",
       "      <td>9479</td>\n",
       "      <td>9480</td>\n",
       "      <td>The Lost City of Machu Picchu</td>\n",
       "      <td>2019</td>\n",
       "      <td>13+</td>\n",
       "      <td>38</td>\n",
       "      <td>0</td>\n",
       "      <td>0</td>\n",
       "      <td>0</td>\n",
       "      <td>1</td>\n",
       "      <td>0</td>\n",
       "    </tr>\n",
       "    <tr>\n",
       "      <th>9484</th>\n",
       "      <td>9484</td>\n",
       "      <td>9485</td>\n",
       "      <td>Wild Portugal</td>\n",
       "      <td>2020</td>\n",
       "      <td>13+</td>\n",
       "      <td>37</td>\n",
       "      <td>0</td>\n",
       "      <td>0</td>\n",
       "      <td>0</td>\n",
       "      <td>1</td>\n",
       "      <td>0</td>\n",
       "    </tr>\n",
       "    <tr>\n",
       "      <th>9488</th>\n",
       "      <td>9488</td>\n",
       "      <td>9489</td>\n",
       "      <td>Shark Attack Investigation: The Paige Winter S...</td>\n",
       "      <td>2020</td>\n",
       "      <td>13+</td>\n",
       "      <td>35</td>\n",
       "      <td>0</td>\n",
       "      <td>0</td>\n",
       "      <td>0</td>\n",
       "      <td>1</td>\n",
       "      <td>0</td>\n",
       "    </tr>\n",
       "    <tr>\n",
       "      <th>9507</th>\n",
       "      <td>9507</td>\n",
       "      <td>9508</td>\n",
       "      <td>Texas Storm Squad</td>\n",
       "      <td>2020</td>\n",
       "      <td>13+</td>\n",
       "      <td>14</td>\n",
       "      <td>0</td>\n",
       "      <td>0</td>\n",
       "      <td>0</td>\n",
       "      <td>1</td>\n",
       "      <td>0</td>\n",
       "    </tr>\n",
       "    <tr>\n",
       "      <th>9508</th>\n",
       "      <td>9508</td>\n",
       "      <td>9509</td>\n",
       "      <td>What the Shark?</td>\n",
       "      <td>2020</td>\n",
       "      <td>13+</td>\n",
       "      <td>14</td>\n",
       "      <td>0</td>\n",
       "      <td>0</td>\n",
       "      <td>0</td>\n",
       "      <td>1</td>\n",
       "      <td>0</td>\n",
       "    </tr>\n",
       "  </tbody>\n",
       "</table>\n",
       "<p>70 rows × 11 columns</p>\n",
       "</div>"
      ],
      "text/plain": [
       "      Unnamed: 0    ID                                              Title  \\\n",
       "4203        4203  4204                                        Teen Spirit   \n",
       "4863        4863  4864                                          Pinocchio   \n",
       "5613        5613  5614                                               Wind   \n",
       "8616        8616  8617                                  Avengers: Endgame   \n",
       "8617        8617  8618                             Avengers: Infinity War   \n",
       "...          ...   ...                                                ...   \n",
       "9479        9479  9480                      The Lost City of Machu Picchu   \n",
       "9484        9484  9485                                      Wild Portugal   \n",
       "9488        9488  9489  Shark Attack Investigation: The Paige Winter S...   \n",
       "9507        9507  9508                                  Texas Storm Squad   \n",
       "9508        9508  9509                                    What the Shark?   \n",
       "\n",
       "      Year  Age  Rotten Tomatoes  Netflix  Hulu  Prime Video  Disney+  Type  \n",
       "4203  2019  13+               60        0     1            0        1     0  \n",
       "4863  2019  13+               72        0     0            1        1     0  \n",
       "5613  1992  13+               58        0     0            1        1     0  \n",
       "8616  2019  13+               90        0     0            0        1     0  \n",
       "8617  2018  13+               90        0     0            0        1     0  \n",
       "...    ...  ...              ...      ...   ...          ...      ...   ...  \n",
       "9479  2019  13+               38        0     0            0        1     0  \n",
       "9484  2020  13+               37        0     0            0        1     0  \n",
       "9488  2020  13+               35        0     0            0        1     0  \n",
       "9507  2020  13+               14        0     0            0        1     0  \n",
       "9508  2020  13+               14        0     0            0        1     0  \n",
       "\n",
       "[70 rows x 11 columns]"
      ]
     },
     "execution_count": 18,
     "metadata": {},
     "output_type": "execute_result"
    }
   ],
   "source": [
    "disney_movies_13plus = df[(df['Disney+'] == 1) & (df['Age'] == '13+')]\n",
    "print(\"Movies available on Disney+ for 13+ age:\")\n",
    "disney_movies_13plus"
   ]
  },
  {
   "cell_type": "markdown",
   "id": "3732e9a4-3740-431d-bbcb-ccac23d268f4",
   "metadata": {},
   "source": [
    "###  8. What is the name of highest rated movie released in year 1977?"
   ]
  },
  {
   "cell_type": "code",
   "execution_count": 19,
   "id": "619d2330-059e-441e-a112-913a7d2cbc66",
   "metadata": {},
   "outputs": [
    {
     "name": "stdout",
     "output_type": "stream",
     "text": [
      "Name of highest rated movie released in 1977: Star Wars: A New Hope\n"
     ]
    }
   ],
   "source": [
    "highest_rated_1977 = df[df['Year'] == 1977].sort_values(by='Rotten Tomatoes', ascending=False).iloc[0]['Title']\n",
    "print(\"Name of highest rated movie released in 1977:\", highest_rated_1977)"
   ]
  },
  {
   "cell_type": "markdown",
   "id": "ff1dd347-7554-4c2e-ba2d-37e86c478320",
   "metadata": {},
   "source": [
    "### 9. Print information of all the movies released in 2020 on Hulu"
   ]
  },
  {
   "cell_type": "code",
   "execution_count": 20,
   "id": "174d3e35-8945-4656-82df-5d77f3e857ab",
   "metadata": {},
   "outputs": [
    {
     "name": "stdout",
     "output_type": "stream",
     "text": [
      "Movies released in 2020 on Hulu:\n"
     ]
    },
    {
     "data": {
      "text/html": [
       "<div>\n",
       "<style scoped>\n",
       "    .dataframe tbody tr th:only-of-type {\n",
       "        vertical-align: middle;\n",
       "    }\n",
       "\n",
       "    .dataframe tbody tr th {\n",
       "        vertical-align: top;\n",
       "    }\n",
       "\n",
       "    .dataframe thead th {\n",
       "        text-align: right;\n",
       "    }\n",
       "</style>\n",
       "<table border=\"1\" class=\"dataframe\">\n",
       "  <thead>\n",
       "    <tr style=\"text-align: right;\">\n",
       "      <th></th>\n",
       "      <th>Unnamed: 0</th>\n",
       "      <th>ID</th>\n",
       "      <th>Title</th>\n",
       "      <th>Year</th>\n",
       "      <th>Age</th>\n",
       "      <th>Rotten Tomatoes</th>\n",
       "      <th>Netflix</th>\n",
       "      <th>Hulu</th>\n",
       "      <th>Prime Video</th>\n",
       "      <th>Disney+</th>\n",
       "      <th>Type</th>\n",
       "    </tr>\n",
       "  </thead>\n",
       "  <tbody>\n",
       "    <tr>\n",
       "      <th>1674</th>\n",
       "      <td>1674</td>\n",
       "      <td>1675</td>\n",
       "      <td>MOTHER</td>\n",
       "      <td>2020</td>\n",
       "      <td>NaN</td>\n",
       "      <td>55</td>\n",
       "      <td>1</td>\n",
       "      <td>1</td>\n",
       "      <td>0</td>\n",
       "      <td>0</td>\n",
       "      <td>0</td>\n",
       "    </tr>\n",
       "    <tr>\n",
       "      <th>2259</th>\n",
       "      <td>2259</td>\n",
       "      <td>2260</td>\n",
       "      <td>Born to Play</td>\n",
       "      <td>2020</td>\n",
       "      <td>NaN</td>\n",
       "      <td>49</td>\n",
       "      <td>1</td>\n",
       "      <td>1</td>\n",
       "      <td>0</td>\n",
       "      <td>0</td>\n",
       "      <td>0</td>\n",
       "    </tr>\n",
       "    <tr>\n",
       "      <th>3712</th>\n",
       "      <td>3712</td>\n",
       "      <td>3713</td>\n",
       "      <td>Happiest Season</td>\n",
       "      <td>2020</td>\n",
       "      <td>13+</td>\n",
       "      <td>83</td>\n",
       "      <td>0</td>\n",
       "      <td>1</td>\n",
       "      <td>0</td>\n",
       "      <td>0</td>\n",
       "      <td>0</td>\n",
       "    </tr>\n",
       "    <tr>\n",
       "      <th>3718</th>\n",
       "      <td>3718</td>\n",
       "      <td>3719</td>\n",
       "      <td>Big Time Adolescence</td>\n",
       "      <td>2020</td>\n",
       "      <td>18+</td>\n",
       "      <td>83</td>\n",
       "      <td>0</td>\n",
       "      <td>1</td>\n",
       "      <td>0</td>\n",
       "      <td>0</td>\n",
       "      <td>0</td>\n",
       "    </tr>\n",
       "    <tr>\n",
       "      <th>3737</th>\n",
       "      <td>3737</td>\n",
       "      <td>3738</td>\n",
       "      <td>Another Round</td>\n",
       "      <td>2020</td>\n",
       "      <td>18+</td>\n",
       "      <td>80</td>\n",
       "      <td>0</td>\n",
       "      <td>1</td>\n",
       "      <td>0</td>\n",
       "      <td>0</td>\n",
       "      <td>0</td>\n",
       "    </tr>\n",
       "    <tr>\n",
       "      <th>...</th>\n",
       "      <td>...</td>\n",
       "      <td>...</td>\n",
       "      <td>...</td>\n",
       "      <td>...</td>\n",
       "      <td>...</td>\n",
       "      <td>...</td>\n",
       "      <td>...</td>\n",
       "      <td>...</td>\n",
       "      <td>...</td>\n",
       "      <td>...</td>\n",
       "      <td>...</td>\n",
       "    </tr>\n",
       "    <tr>\n",
       "      <th>4662</th>\n",
       "      <td>4662</td>\n",
       "      <td>4663</td>\n",
       "      <td>Naughty Books</td>\n",
       "      <td>2020</td>\n",
       "      <td>NaN</td>\n",
       "      <td>42</td>\n",
       "      <td>0</td>\n",
       "      <td>1</td>\n",
       "      <td>0</td>\n",
       "      <td>0</td>\n",
       "      <td>0</td>\n",
       "    </tr>\n",
       "    <tr>\n",
       "      <th>4678</th>\n",
       "      <td>4678</td>\n",
       "      <td>4679</td>\n",
       "      <td>Carrion</td>\n",
       "      <td>2020</td>\n",
       "      <td>NaN</td>\n",
       "      <td>39</td>\n",
       "      <td>0</td>\n",
       "      <td>1</td>\n",
       "      <td>0</td>\n",
       "      <td>0</td>\n",
       "      <td>0</td>\n",
       "    </tr>\n",
       "    <tr>\n",
       "      <th>4684</th>\n",
       "      <td>4684</td>\n",
       "      <td>4685</td>\n",
       "      <td>A Christmas Hero</td>\n",
       "      <td>2020</td>\n",
       "      <td>NaN</td>\n",
       "      <td>39</td>\n",
       "      <td>0</td>\n",
       "      <td>1</td>\n",
       "      <td>0</td>\n",
       "      <td>0</td>\n",
       "      <td>0</td>\n",
       "    </tr>\n",
       "    <tr>\n",
       "      <th>4698</th>\n",
       "      <td>4698</td>\n",
       "      <td>4699</td>\n",
       "      <td>Michael Smerconish: Things I Wish I Knew Befor...</td>\n",
       "      <td>2020</td>\n",
       "      <td>NaN</td>\n",
       "      <td>20</td>\n",
       "      <td>0</td>\n",
       "      <td>1</td>\n",
       "      <td>0</td>\n",
       "      <td>0</td>\n",
       "      <td>0</td>\n",
       "    </tr>\n",
       "    <tr>\n",
       "      <th>4699</th>\n",
       "      <td>4699</td>\n",
       "      <td>4700</td>\n",
       "      <td>Alien Contact</td>\n",
       "      <td>2020</td>\n",
       "      <td>NaN</td>\n",
       "      <td>15</td>\n",
       "      <td>0</td>\n",
       "      <td>1</td>\n",
       "      <td>0</td>\n",
       "      <td>0</td>\n",
       "      <td>0</td>\n",
       "    </tr>\n",
       "  </tbody>\n",
       "</table>\n",
       "<p>116 rows × 11 columns</p>\n",
       "</div>"
      ],
      "text/plain": [
       "      Unnamed: 0    ID                                              Title  \\\n",
       "1674        1674  1675                                             MOTHER   \n",
       "2259        2259  2260                                       Born to Play   \n",
       "3712        3712  3713                                    Happiest Season   \n",
       "3718        3718  3719                               Big Time Adolescence   \n",
       "3737        3737  3738                                      Another Round   \n",
       "...          ...   ...                                                ...   \n",
       "4662        4662  4663                                      Naughty Books   \n",
       "4678        4678  4679                                            Carrion   \n",
       "4684        4684  4685                                   A Christmas Hero   \n",
       "4698        4698  4699  Michael Smerconish: Things I Wish I Knew Befor...   \n",
       "4699        4699  4700                                      Alien Contact   \n",
       "\n",
       "      Year  Age  Rotten Tomatoes  Netflix  Hulu  Prime Video  Disney+  Type  \n",
       "1674  2020  NaN               55        1     1            0        0     0  \n",
       "2259  2020  NaN               49        1     1            0        0     0  \n",
       "3712  2020  13+               83        0     1            0        0     0  \n",
       "3718  2020  18+               83        0     1            0        0     0  \n",
       "3737  2020  18+               80        0     1            0        0     0  \n",
       "...    ...  ...              ...      ...   ...          ...      ...   ...  \n",
       "4662  2020  NaN               42        0     1            0        0     0  \n",
       "4678  2020  NaN               39        0     1            0        0     0  \n",
       "4684  2020  NaN               39        0     1            0        0     0  \n",
       "4698  2020  NaN               20        0     1            0        0     0  \n",
       "4699  2020  NaN               15        0     1            0        0     0  \n",
       "\n",
       "[116 rows x 11 columns]"
      ]
     },
     "execution_count": 20,
     "metadata": {},
     "output_type": "execute_result"
    }
   ],
   "source": [
    "hulu_movies_2020 = df[(df['Hulu'] == 1) & (df['Year'] == 2020)]\n",
    "print(\"Movies released in 2020 on Hulu:\")\n",
    "hulu_movies_2020"
   ]
  },
  {
   "cell_type": "markdown",
   "id": "e05042aa-4475-4e07-9194-75ce04010c33",
   "metadata": {},
   "source": [
    "###  10. Sort and print movie names and their release year from Prime Video platform"
   ]
  },
  {
   "cell_type": "code",
   "execution_count": 21,
   "id": "b32ff82a-84b7-4184-9441-0418282e865e",
   "metadata": {},
   "outputs": [
    {
     "name": "stdout",
     "output_type": "stream",
     "text": [
      "Movie names and release year from Prime Video platform:\n"
     ]
    },
    {
     "data": {
      "text/html": [
       "<div>\n",
       "<style scoped>\n",
       "    .dataframe tbody tr th:only-of-type {\n",
       "        vertical-align: middle;\n",
       "    }\n",
       "\n",
       "    .dataframe tbody tr th {\n",
       "        vertical-align: top;\n",
       "    }\n",
       "\n",
       "    .dataframe thead th {\n",
       "        text-align: right;\n",
       "    }\n",
       "</style>\n",
       "<table border=\"1\" class=\"dataframe\">\n",
       "  <thead>\n",
       "    <tr style=\"text-align: right;\">\n",
       "      <th></th>\n",
       "      <th>Title</th>\n",
       "      <th>Year</th>\n",
       "    </tr>\n",
       "  </thead>\n",
       "  <tbody>\n",
       "    <tr>\n",
       "      <th>7043</th>\n",
       "      <td>The Patchwork Girl of Oz</td>\n",
       "      <td>1914</td>\n",
       "    </tr>\n",
       "    <tr>\n",
       "      <th>7208</th>\n",
       "      <td>Fanchon, the Cricket</td>\n",
       "      <td>1915</td>\n",
       "    </tr>\n",
       "    <tr>\n",
       "      <th>6151</th>\n",
       "      <td>The Cheat</td>\n",
       "      <td>1915</td>\n",
       "    </tr>\n",
       "    <tr>\n",
       "      <th>7314</th>\n",
       "      <td>Joan the Woman</td>\n",
       "      <td>1916</td>\n",
       "    </tr>\n",
       "    <tr>\n",
       "      <th>5281</th>\n",
       "      <td>Broken Blossoms</td>\n",
       "      <td>1919</td>\n",
       "    </tr>\n",
       "    <tr>\n",
       "      <th>...</th>\n",
       "      <td>...</td>\n",
       "      <td>...</td>\n",
       "    </tr>\n",
       "    <tr>\n",
       "      <th>4968</th>\n",
       "      <td>Tom Clancy's Without Remorse</td>\n",
       "      <td>2021</td>\n",
       "    </tr>\n",
       "    <tr>\n",
       "      <th>7336</th>\n",
       "      <td>Travis Turner</td>\n",
       "      <td>2021</td>\n",
       "    </tr>\n",
       "    <tr>\n",
       "      <th>8244</th>\n",
       "      <td>Virus Shark</td>\n",
       "      <td>2021</td>\n",
       "    </tr>\n",
       "    <tr>\n",
       "      <th>7081</th>\n",
       "      <td>Volcanic UFO Mysteries</td>\n",
       "      <td>2021</td>\n",
       "    </tr>\n",
       "    <tr>\n",
       "      <th>8296</th>\n",
       "      <td>Voyage of the Chimera</td>\n",
       "      <td>2021</td>\n",
       "    </tr>\n",
       "  </tbody>\n",
       "</table>\n",
       "<p>4113 rows × 2 columns</p>\n",
       "</div>"
      ],
      "text/plain": [
       "                             Title  Year\n",
       "7043      The Patchwork Girl of Oz  1914\n",
       "7208          Fanchon, the Cricket  1915\n",
       "6151                     The Cheat  1915\n",
       "7314                Joan the Woman  1916\n",
       "5281               Broken Blossoms  1919\n",
       "...                            ...   ...\n",
       "4968  Tom Clancy's Without Remorse  2021\n",
       "7336                 Travis Turner  2021\n",
       "8244                   Virus Shark  2021\n",
       "7081        Volcanic UFO Mysteries  2021\n",
       "8296         Voyage of the Chimera  2021\n",
       "\n",
       "[4113 rows x 2 columns]"
      ]
     },
     "execution_count": 21,
     "metadata": {},
     "output_type": "execute_result"
    }
   ],
   "source": [
    "prime_video_sorted = df[df['Prime Video'] == 1].sort_values(by=['Year', 'Title'])\n",
    "print(\"Movie names and release year from Prime Video platform:\")\n",
    "prime_video_sorted[['Title', 'Year']]"
   ]
  },
  {
   "cell_type": "markdown",
   "id": "3838546e-8d6b-4a1a-9d56-5b5bfedd3dd5",
   "metadata": {},
   "source": [
    "###  11. Print all the movie names which contains the name ‘tiger’."
   ]
  },
  {
   "cell_type": "code",
   "execution_count": 22,
   "id": "403bee9b-a287-454a-b4b2-443419ce38c0",
   "metadata": {},
   "outputs": [
    {
     "name": "stdout",
     "output_type": "stream",
     "text": [
      "Movie names containing the name 'tiger':\n"
     ]
    },
    {
     "data": {
      "text/plain": [
       "39                                 Bill Burr: Paper Tiger\n",
       "313                                       The White Tiger\n",
       "848      Crouching Tiger, Hidden Dragon: Sword of Destiny\n",
       "1549                                            Tigertail\n",
       "1558                                    Dragon Tiger Gate\n",
       "2299                               The Royal Bengal Tiger\n",
       "3319                                                Tiger\n",
       "4868                                      Tiger Zinda Hai\n",
       "4944                                         Ek Tha Tiger\n",
       "5850                                          White Tiger\n",
       "5902                                         Tiger Orange\n",
       "6756                                     The Tiger Hunter\n",
       "7170                                         Bengal Tiger\n",
       "7631                          Rudy Ruettiger: The Walk On\n",
       "8290    The Daniel Tiger Movie: Won't You Be Our Neigh...\n",
       "8546                                  Return of the Tiger\n",
       "9200                                         Tiger Cruise\n",
       "9223                                      Let's Be Tigers\n",
       "Name: Title, dtype: object"
      ]
     },
     "execution_count": 22,
     "metadata": {},
     "output_type": "execute_result"
    }
   ],
   "source": [
    "tiger_movies = df[df['Title'].str.contains('tiger', case=False)]['Title']\n",
    "print(\"Movie names containing the name 'tiger':\")\n",
    "tiger_movies"
   ]
  },
  {
   "cell_type": "markdown",
   "id": "902a5e06-de44-4ab2-85f0-a7d5f306421b",
   "metadata": {},
   "source": [
    "###  12. Plot the count of share of all moviess by platform."
   ]
  },
  {
   "cell_type": "code",
   "execution_count": 23,
   "id": "c06f4c3e-61b8-4471-8385-26230928d426",
   "metadata": {},
   "outputs": [
    {
     "data": {
      "text/plain": [
       "<Axes: title={'center': 'Count of movies by platform'}>"
      ]
     },
     "execution_count": 23,
     "metadata": {},
     "output_type": "execute_result"
    },
    {
     "data": {
      "image/png": "[encoded data removed]",
      "text/plain": [
       "<Figure size 640x480 with 1 Axes>"
      ]
     },
     "metadata": {},
     "output_type": "display_data"
    }
   ],
   "source": [
    "platform_counts = df[['Netflix', 'Hulu', 'Prime Video', 'Disney+']].sum()\n",
    "platform_counts.plot(kind='bar', title='Count of movies by platform')"
   ]
  },
  {
   "cell_type": "markdown",
   "id": "1f94e3a8-c224-4818-b45a-3d93ea57423a",
   "metadata": {},
   "source": [
    "###  13. What is the name of highest rated movie on Hulu?"
   ]
  },
  {
   "cell_type": "code",
   "execution_count": 24,
   "id": "a60c87da-63ba-4ee6-8119-c8aaacb86ce9",
   "metadata": {},
   "outputs": [
    {
     "name": "stdout",
     "output_type": "stream",
     "text": [
      "Name of highest rated movie on Hulu: The Dark Knight\n"
     ]
    }
   ],
   "source": [
    "highest_rated_hulu = df[df['Hulu'] == 1].sort_values(by='Rotten Tomatoes', ascending=False).iloc[0]['Title']\n",
    "print(\"Name of highest rated movie on Hulu:\", highest_rated_hulu)"
   ]
  },
  {
   "cell_type": "markdown",
   "id": "2761828f-f3f4-48d9-b71d-530c64ffec8e",
   "metadata": {},
   "source": [
    "###  14. Count the movies released yearswise on Netflix."
   ]
  },
  {
   "cell_type": "code",
   "execution_count": 25,
   "id": "e79c9af5-e753-4cdb-853a-30896183c086",
   "metadata": {},
   "outputs": [
    {
     "name": "stdout",
     "output_type": "stream",
     "text": [
      "Movies released years-wise on Netflix:\n"
     ]
    },
    {
     "data": {
      "text/plain": [
       "Year\n",
       "1954      2\n",
       "1956      1\n",
       "1958      1\n",
       "1959      1\n",
       "1960      1\n",
       "       ... \n",
       "2017    448\n",
       "2018    539\n",
       "2019    571\n",
       "2020    476\n",
       "2021    201\n",
       "Length: 62, dtype: int64"
      ]
     },
     "execution_count": 25,
     "metadata": {},
     "output_type": "execute_result"
    }
   ],
   "source": [
    "netflix_movies_yearwise = df[df['Netflix'] == 1].groupby('Year').size()\n",
    "print(\"Movies released years-wise on Netflix:\")\n",
    "netflix_movies_yearwise"
   ]
  },
  {
   "cell_type": "markdown",
   "id": "dd685a67-8baa-44fb-b0ce-d68155f9e4bc",
   "metadata": {},
   "source": [
    "### 15. Draw a barplot showing count of 18+ and 13+ movies on Disney+"
   ]
  },
  {
   "cell_type": "code",
   "execution_count": 26,
   "id": "c06b360a-6e19-4b1b-bf6e-3ad2e2126f51",
   "metadata": {},
   "outputs": [
    {
     "data": {
      "text/plain": [
       "<Axes: title={'center': 'Count of movies on Disney+ by age group'}, xlabel='Age'>"
      ]
     },
     "execution_count": 26,
     "metadata": {},
     "output_type": "execute_result"
    },
    {
     "data": {
      "image/png": "[encoded data removed]",
      "text/plain": [
       "<Figure size 640x480 with 1 Axes>"
      ]
     },
     "metadata": {},
     "output_type": "display_data"
    }
   ],
   "source": [
    "disney_age_counts = df[df['Disney+'] == 1]['Age'].value_counts()\n",
    "disney_age_counts.plot(kind='bar', title='Count of movies on Disney+ by age group')"
   ]
  }
 ],
 "metadata": {
  "kernelspec": {
   "display_name": "python3.11.5",
   "language": "python",
   "name": "python3.11.5"
  },
  "language_info": {
   "codemirror_mode": {
    "name": "ipython",
    "version": 3
   },
   "file_extension": ".py",
   "mimetype": "text/x-python",
   "name": "python",
   "nbconvert_exporter": "python",
   "pygments_lexer": "ipython3",
   "version": "3.11.5"
  }
 },
 "nbformat": 4,
 "nbformat_minor": 5
}
