{
 "cells": [
  {
   "cell_type": "code",
   "execution_count": 1,
   "id": "0f4cd360-f8fc-4000-95b0-00907153aae7",
   "metadata": {},
   "outputs": [
    {
     "name": "stdout",
     "output_type": "stream",
     "text": [
      "Defaulting to user installation because normal site-packages is not writeable\n",
      "Requirement already satisfied: openpyxl in c:\\users\\shreyash\\appdata\\roaming\\python\\python311\\site-packages (3.1.2)\n",
      "Requirement already satisfied: et-xmlfile in c:\\users\\shreyash\\appdata\\roaming\\python\\python311\\site-packages (from openpyxl) (1.1.0)\n",
      "Note: you may need to restart the kernel to use updated packages.\n"
     ]
    },
    {
     "name": "stderr",
     "output_type": "stream",
     "text": [
      "DEPRECATION: Loading egg at c:\\program files\\python311\\lib\\site-packages\\vboxapi-1.0-py3.11.egg is deprecated. pip 24.3 will enforce this behaviour change. A possible replacement is to use pip for package installation.. Discussion can be found at https://github.com/pypa/pip/issues/12330\n",
      "DEPRECATION: google-images-search 1.4.6 has a non-standard dependency specifier click>=7.0<=8.1.*. pip 24.1 will enforce this behaviour change. A possible replacement is to upgrade to a newer version of google-images-search or contact the author to suggest that they release a version with a conforming dependency specifiers. Discussion can be found at https://github.com/pypa/pip/issues/12063\n"
     ]
    }
   ],
   "source": [
    "pip install openpyxl"
   ]
  },
  {
   "cell_type": "code",
   "execution_count": 2,
   "id": "1c0db14d-adb1-4e9c-a1a0-395b8b3c065e",
   "metadata": {},
   "outputs": [],
   "source": [
    "# Programmer : Shreyash Dhomkar\n",
    "# College : Keystone SOE\n",
    "# Class : TE\n",
    "# Roll No : 57"
   ]
  },
  {
   "cell_type": "code",
   "execution_count": 3,
   "id": "293c9cba-aff3-483c-8c52-72b2c523e56a",
   "metadata": {},
   "outputs": [],
   "source": [
    "# pandas -> structured data analysis\n",
    "import pandas as pd\n",
    "# numpy -> array operations\n",
    "import numpy as np"
   ]
  },
  {
   "cell_type": "markdown",
   "id": "343909dd-74fb-46ea-86f8-ab5c47dc8aac",
   "metadata": {},
   "source": [
    "## Array"
   ]
  },
  {
   "cell_type": "code",
   "execution_count": 4,
   "id": "763e83f2-0220-41e8-871e-620baf81161b",
   "metadata": {},
   "outputs": [],
   "source": [
    "num = np.array([34,12,37,49,15,73,88])"
   ]
  },
  {
   "cell_type": "code",
   "execution_count": 5,
   "id": "3b11fba8-36ed-4238-b1f8-47c8573e1e21",
   "metadata": {},
   "outputs": [
    {
     "data": {
      "text/plain": [
       "array([34, 12, 37, 49, 15, 73, 88])"
      ]
     },
     "execution_count": 5,
     "metadata": {},
     "output_type": "execute_result"
    }
   ],
   "source": [
    "num"
   ]
  },
  {
   "cell_type": "code",
   "execution_count": 6,
   "id": "981122ad-2b9b-4694-8aba-f05a328a2e4a",
   "metadata": {},
   "outputs": [
    {
     "data": {
      "text/plain": [
       "numpy.ndarray"
      ]
     },
     "execution_count": 6,
     "metadata": {},
     "output_type": "execute_result"
    }
   ],
   "source": [
    "type(num)"
   ]
  },
  {
   "cell_type": "code",
   "execution_count": 7,
   "id": "7a107eeb-af20-47bf-b320-b3aab8d731bd",
   "metadata": {},
   "outputs": [
    {
     "data": {
      "text/plain": [
       "dtype('int32')"
      ]
     },
     "execution_count": 7,
     "metadata": {},
     "output_type": "execute_result"
    }
   ],
   "source": [
    "num.dtype"
   ]
  },
  {
   "cell_type": "code",
   "execution_count": 8,
   "id": "64f3e756-fd0e-4cb9-ae76-b6641707fad3",
   "metadata": {},
   "outputs": [],
   "source": [
    "num = np.array([34,12,37,49,15,73,88], dtype=np.int16)"
   ]
  },
  {
   "cell_type": "code",
   "execution_count": 9,
   "id": "301a59af-7a54-4826-9f01-660ab0e07b07",
   "metadata": {},
   "outputs": [
    {
     "data": {
      "text/plain": [
       "array([34, 12, 37, 49, 15, 73, 88], dtype=int16)"
      ]
     },
     "execution_count": 9,
     "metadata": {},
     "output_type": "execute_result"
    }
   ],
   "source": [
    "num"
   ]
  },
  {
   "cell_type": "code",
   "execution_count": 10,
   "id": "7db59c7d-5331-4903-97ff-9900d6a34367",
   "metadata": {},
   "outputs": [
    {
     "data": {
      "text/plain": [
       "dtype('int16')"
      ]
     },
     "execution_count": 10,
     "metadata": {},
     "output_type": "execute_result"
    }
   ],
   "source": [
    "num.dtype"
   ]
  },
  {
   "cell_type": "code",
   "execution_count": 11,
   "id": "414d6eed-2558-4627-96a6-71409b3face4",
   "metadata": {},
   "outputs": [
    {
     "data": {
      "text/plain": [
       "37"
      ]
     },
     "execution_count": 11,
     "metadata": {},
     "output_type": "execute_result"
    }
   ],
   "source": [
    "num[2]"
   ]
  },
  {
   "cell_type": "markdown",
   "id": "bd9d5edc-d5cf-4451-ac97-81bf6055f884",
   "metadata": {},
   "source": [
    "## Series"
   ]
  },
  {
   "cell_type": "code",
   "execution_count": 12,
   "id": "e6f66055-1cfa-486c-bafa-bb3fd3e183fd",
   "metadata": {},
   "outputs": [],
   "source": [
    "s = pd.Series([45,12,38,75,19,36])"
   ]
  },
  {
   "cell_type": "code",
   "execution_count": 13,
   "id": "885a6e70-dd06-4ff7-a384-7389201d8238",
   "metadata": {},
   "outputs": [
    {
     "data": {
      "text/plain": [
       "0    45\n",
       "1    12\n",
       "2    38\n",
       "3    75\n",
       "4    19\n",
       "5    36\n",
       "dtype: int64"
      ]
     },
     "execution_count": 13,
     "metadata": {},
     "output_type": "execute_result"
    }
   ],
   "source": [
    "s"
   ]
  },
  {
   "cell_type": "code",
   "execution_count": 14,
   "id": "6af9a800-30c7-4ba5-994a-4633f3b77a1b",
   "metadata": {},
   "outputs": [
    {
     "data": {
      "text/plain": [
       "pandas.core.series.Series"
      ]
     },
     "execution_count": 14,
     "metadata": {},
     "output_type": "execute_result"
    }
   ],
   "source": [
    "type(s)"
   ]
  },
  {
   "cell_type": "code",
   "execution_count": 15,
   "id": "075e8ba3-2318-42f4-bf51-96b29ece82b8",
   "metadata": {},
   "outputs": [
    {
     "data": {
      "text/plain": [
       "dtype('int64')"
      ]
     },
     "execution_count": 15,
     "metadata": {},
     "output_type": "execute_result"
    }
   ],
   "source": [
    "s.dtype"
   ]
  },
  {
   "cell_type": "code",
   "execution_count": 16,
   "id": "5fdfd23d-e61f-4c79-a41a-b7137c72b141",
   "metadata": {},
   "outputs": [
    {
     "data": {
      "text/plain": [
       "6"
      ]
     },
     "execution_count": 16,
     "metadata": {},
     "output_type": "execute_result"
    }
   ],
   "source": [
    "s.size"
   ]
  },
  {
   "cell_type": "code",
   "execution_count": 17,
   "id": "e22b58a6-c64b-4ff9-86cc-83e0105954b3",
   "metadata": {},
   "outputs": [
    {
     "data": {
      "text/plain": [
       "(6,)"
      ]
     },
     "execution_count": 17,
     "metadata": {},
     "output_type": "execute_result"
    }
   ],
   "source": [
    "s.shape"
   ]
  },
  {
   "cell_type": "code",
   "execution_count": 18,
   "id": "0d66999e-512c-4e05-bb52-1738155e70b8",
   "metadata": {},
   "outputs": [],
   "source": [
    "s = pd.Series([45,12,38,75,19,36], index=range(100,106))"
   ]
  },
  {
   "cell_type": "code",
   "execution_count": 19,
   "id": "d8fcc23a-4be6-4cbf-ab40-484330992179",
   "metadata": {},
   "outputs": [
    {
     "data": {
      "text/plain": [
       "100    45\n",
       "101    12\n",
       "102    38\n",
       "103    75\n",
       "104    19\n",
       "105    36\n",
       "dtype: int64"
      ]
     },
     "execution_count": 19,
     "metadata": {},
     "output_type": "execute_result"
    }
   ],
   "source": [
    "s"
   ]
  },
  {
   "cell_type": "code",
   "execution_count": 20,
   "id": "fc1a667f-1720-4955-ad95-6e23613765ed",
   "metadata": {},
   "outputs": [
    {
     "data": {
      "text/plain": [
       "36"
      ]
     },
     "execution_count": 20,
     "metadata": {},
     "output_type": "execute_result"
    }
   ],
   "source": [
    "s[105]"
   ]
  },
  {
   "cell_type": "code",
   "execution_count": 21,
   "id": "bbb66c29-28f2-423b-982b-37109fa8d57e",
   "metadata": {},
   "outputs": [],
   "source": [
    "r = pd.Series([1,2,3,4,5])\n",
    "n = pd.Series(['prem','raj','kiran','priya','asha'])\n",
    "m = pd.Series([67.89,73.57,71.90,67.34,66.66])"
   ]
  },
  {
   "cell_type": "code",
   "execution_count": 22,
   "id": "de72546d-89b8-42dc-921f-108fa02abd8f",
   "metadata": {},
   "outputs": [],
   "source": [
    "df = pd.DataFrame({\n",
    "    'roll': r,\n",
    "    'name': n,\n",
    "    'marks': m\n",
    "})"
   ]
  },
  {
   "cell_type": "code",
   "execution_count": 23,
   "id": "2d30bd5b-bc0e-4772-8113-c97779beb560",
   "metadata": {},
   "outputs": [
    {
     "data": {
      "text/html": [
       "<div>\n",
       "<style scoped>\n",
       "    .dataframe tbody tr th:only-of-type {\n",
       "        vertical-align: middle;\n",
       "    }\n",
       "\n",
       "    .dataframe tbody tr th {\n",
       "        vertical-align: top;\n",
       "    }\n",
       "\n",
       "    .dataframe thead th {\n",
       "        text-align: right;\n",
       "    }\n",
       "</style>\n",
       "<table border=\"1\" class=\"dataframe\">\n",
       "  <thead>\n",
       "    <tr style=\"text-align: right;\">\n",
       "      <th></th>\n",
       "      <th>roll</th>\n",
       "      <th>name</th>\n",
       "      <th>marks</th>\n",
       "    </tr>\n",
       "  </thead>\n",
       "  <tbody>\n",
       "    <tr>\n",
       "      <th>0</th>\n",
       "      <td>1</td>\n",
       "      <td>prem</td>\n",
       "      <td>67.89</td>\n",
       "    </tr>\n",
       "    <tr>\n",
       "      <th>1</th>\n",
       "      <td>2</td>\n",
       "      <td>raj</td>\n",
       "      <td>73.57</td>\n",
       "    </tr>\n",
       "    <tr>\n",
       "      <th>2</th>\n",
       "      <td>3</td>\n",
       "      <td>kiran</td>\n",
       "      <td>71.90</td>\n",
       "    </tr>\n",
       "    <tr>\n",
       "      <th>3</th>\n",
       "      <td>4</td>\n",
       "      <td>priya</td>\n",
       "      <td>67.34</td>\n",
       "    </tr>\n",
       "    <tr>\n",
       "      <th>4</th>\n",
       "      <td>5</td>\n",
       "      <td>asha</td>\n",
       "      <td>66.66</td>\n",
       "    </tr>\n",
       "  </tbody>\n",
       "</table>\n",
       "</div>"
      ],
      "text/plain": [
       "   roll   name  marks\n",
       "0     1   prem  67.89\n",
       "1     2    raj  73.57\n",
       "2     3  kiran  71.90\n",
       "3     4  priya  67.34\n",
       "4     5   asha  66.66"
      ]
     },
     "execution_count": 23,
     "metadata": {},
     "output_type": "execute_result"
    }
   ],
   "source": [
    "df"
   ]
  },
  {
   "cell_type": "code",
   "execution_count": 24,
   "id": "aca07de0-1e91-42f1-b091-1542b191f3c3",
   "metadata": {},
   "outputs": [
    {
     "data": {
      "text/plain": [
       "(5, 3)"
      ]
     },
     "execution_count": 24,
     "metadata": {},
     "output_type": "execute_result"
    }
   ],
   "source": [
    "df.shape"
   ]
  },
  {
   "cell_type": "code",
   "execution_count": 25,
   "id": "0c90cea7-582e-4dfb-a4a9-a1b93549554b",
   "metadata": {},
   "outputs": [
    {
     "data": {
      "text/plain": [
       "15"
      ]
     },
     "execution_count": 25,
     "metadata": {},
     "output_type": "execute_result"
    }
   ],
   "source": [
    "df.size"
   ]
  },
  {
   "cell_type": "code",
   "execution_count": 26,
   "id": "28940fdc-1cab-4b94-87e6-d0159c5adea7",
   "metadata": {},
   "outputs": [
    {
     "data": {
      "text/plain": [
       "roll       int64\n",
       "name      object\n",
       "marks    float64\n",
       "dtype: object"
      ]
     },
     "execution_count": 26,
     "metadata": {},
     "output_type": "execute_result"
    }
   ],
   "source": [
    "df.dtypes"
   ]
  },
  {
   "cell_type": "code",
   "execution_count": 27,
   "id": "483f3afb-be94-43c2-a33f-60cb5811e1f7",
   "metadata": {},
   "outputs": [
    {
     "data": {
      "text/plain": [
       "pandas.core.frame.DataFrame"
      ]
     },
     "execution_count": 27,
     "metadata": {},
     "output_type": "execute_result"
    }
   ],
   "source": [
    "type(df)"
   ]
  },
  {
   "cell_type": "markdown",
   "id": "f60a3455-f70e-4208-95aa-af70df573f64",
   "metadata": {},
   "source": [
    "## Structured Data Analysis"
   ]
  },
  {
   "cell_type": "markdown",
   "id": "a2adecfe-387b-42c2-98fa-26b8ce667097",
   "metadata": {},
   "source": [
    " Downloading datasets starting with students from \n",
    " https://mitu.co.in/dataset"
   ]
  },
  {
   "cell_type": "code",
   "execution_count": 28,
   "id": "60a9bda0-5650-4e4b-a070-b7c3eb0a67ce",
   "metadata": {},
   "outputs": [
    {
     "data": {
      "text/plain": [
       "'C:\\\\Users\\\\shreyash\\\\Documents\\\\data science'"
      ]
     },
     "execution_count": 28,
     "metadata": {},
     "output_type": "execute_result"
    }
   ],
   "source": [
    "import os\n",
    "os.getcwd()"
   ]
  },
  {
   "cell_type": "markdown",
   "id": "e814662b-6f97-4b63-907a-8cc357cb4b73",
   "metadata": {},
   "source": [
    "## Import data set"
   ]
  },
  {
   "cell_type": "code",
   "execution_count": 29,
   "id": "095ad59c-1764-4db8-8b99-3780304b9738",
   "metadata": {},
   "outputs": [],
   "source": [
    "df = pd.read_csv('student.csv')"
   ]
  },
  {
   "cell_type": "code",
   "execution_count": 30,
   "id": "89fc8910-4951-43af-a97f-144ac46b9571",
   "metadata": {},
   "outputs": [
    {
     "data": {
      "text/html": [
       "<div>\n",
       "<style scoped>\n",
       "    .dataframe tbody tr th:only-of-type {\n",
       "        vertical-align: middle;\n",
       "    }\n",
       "\n",
       "    .dataframe tbody tr th {\n",
       "        vertical-align: top;\n",
       "    }\n",
       "\n",
       "    .dataframe thead th {\n",
       "        text-align: right;\n",
       "    }\n",
       "</style>\n",
       "<table border=\"1\" class=\"dataframe\">\n",
       "  <thead>\n",
       "    <tr style=\"text-align: right;\">\n",
       "      <th></th>\n",
       "      <th>roll</th>\n",
       "      <th>name</th>\n",
       "      <th>class</th>\n",
       "      <th>marks</th>\n",
       "      <th>age</th>\n",
       "    </tr>\n",
       "  </thead>\n",
       "  <tbody>\n",
       "    <tr>\n",
       "      <th>0</th>\n",
       "      <td>1</td>\n",
       "      <td>anil</td>\n",
       "      <td>TE</td>\n",
       "      <td>56.77</td>\n",
       "      <td>22</td>\n",
       "    </tr>\n",
       "    <tr>\n",
       "      <th>1</th>\n",
       "      <td>2</td>\n",
       "      <td>amit</td>\n",
       "      <td>TE</td>\n",
       "      <td>59.77</td>\n",
       "      <td>21</td>\n",
       "    </tr>\n",
       "    <tr>\n",
       "      <th>2</th>\n",
       "      <td>3</td>\n",
       "      <td>aniket</td>\n",
       "      <td>BE</td>\n",
       "      <td>76.88</td>\n",
       "      <td>19</td>\n",
       "    </tr>\n",
       "    <tr>\n",
       "      <th>3</th>\n",
       "      <td>4</td>\n",
       "      <td>ajinkya</td>\n",
       "      <td>TE</td>\n",
       "      <td>69.66</td>\n",
       "      <td>20</td>\n",
       "    </tr>\n",
       "    <tr>\n",
       "      <th>4</th>\n",
       "      <td>5</td>\n",
       "      <td>asha</td>\n",
       "      <td>TE</td>\n",
       "      <td>63.28</td>\n",
       "      <td>20</td>\n",
       "    </tr>\n",
       "    <tr>\n",
       "      <th>5</th>\n",
       "      <td>6</td>\n",
       "      <td>ayesha</td>\n",
       "      <td>BE</td>\n",
       "      <td>49.55</td>\n",
       "      <td>20</td>\n",
       "    </tr>\n",
       "    <tr>\n",
       "      <th>6</th>\n",
       "      <td>7</td>\n",
       "      <td>amar</td>\n",
       "      <td>BE</td>\n",
       "      <td>65.34</td>\n",
       "      <td>19</td>\n",
       "    </tr>\n",
       "    <tr>\n",
       "      <th>7</th>\n",
       "      <td>8</td>\n",
       "      <td>amita</td>\n",
       "      <td>BE</td>\n",
       "      <td>68.33</td>\n",
       "      <td>23</td>\n",
       "    </tr>\n",
       "    <tr>\n",
       "      <th>8</th>\n",
       "      <td>9</td>\n",
       "      <td>amol</td>\n",
       "      <td>TE</td>\n",
       "      <td>56.75</td>\n",
       "      <td>20</td>\n",
       "    </tr>\n",
       "    <tr>\n",
       "      <th>9</th>\n",
       "      <td>10</td>\n",
       "      <td>anmol</td>\n",
       "      <td>BE</td>\n",
       "      <td>78.66</td>\n",
       "      <td>21</td>\n",
       "    </tr>\n",
       "  </tbody>\n",
       "</table>\n",
       "</div>"
      ],
      "text/plain": [
       "   roll     name class  marks  age\n",
       "0     1     anil    TE  56.77   22\n",
       "1     2     amit    TE  59.77   21\n",
       "2     3   aniket    BE  76.88   19\n",
       "3     4  ajinkya    TE  69.66   20\n",
       "4     5     asha    TE  63.28   20\n",
       "5     6   ayesha    BE  49.55   20\n",
       "6     7     amar    BE  65.34   19\n",
       "7     8    amita    BE  68.33   23\n",
       "8     9     amol    TE  56.75   20\n",
       "9    10    anmol    BE  78.66   21"
      ]
     },
     "execution_count": 30,
     "metadata": {},
     "output_type": "execute_result"
    }
   ],
   "source": [
    "df"
   ]
  },
  {
   "cell_type": "code",
   "execution_count": 31,
   "id": "0b601ff0-547c-4745-a454-57b199e3ad1a",
   "metadata": {},
   "outputs": [],
   "source": [
    "df1 = pd.read_csv('student1.csv')"
   ]
  },
  {
   "cell_type": "code",
   "execution_count": 32,
   "id": "c14aa8b7-09cf-4e52-a998-0c36a6cc1c24",
   "metadata": {},
   "outputs": [
    {
     "data": {
      "text/html": [
       "<div>\n",
       "<style scoped>\n",
       "    .dataframe tbody tr th:only-of-type {\n",
       "        vertical-align: middle;\n",
       "    }\n",
       "\n",
       "    .dataframe tbody tr th {\n",
       "        vertical-align: top;\n",
       "    }\n",
       "\n",
       "    .dataframe thead th {\n",
       "        text-align: right;\n",
       "    }\n",
       "</style>\n",
       "<table border=\"1\" class=\"dataframe\">\n",
       "  <thead>\n",
       "    <tr style=\"text-align: right;\">\n",
       "      <th></th>\n",
       "      <th>1</th>\n",
       "      <th>anil</th>\n",
       "      <th>TE</th>\n",
       "      <th>56.77</th>\n",
       "      <th>22</th>\n",
       "    </tr>\n",
       "  </thead>\n",
       "  <tbody>\n",
       "    <tr>\n",
       "      <th>0</th>\n",
       "      <td>2</td>\n",
       "      <td>amit</td>\n",
       "      <td>TE</td>\n",
       "      <td>59.77</td>\n",
       "      <td>21</td>\n",
       "    </tr>\n",
       "    <tr>\n",
       "      <th>1</th>\n",
       "      <td>3</td>\n",
       "      <td>aniket</td>\n",
       "      <td>BE</td>\n",
       "      <td>76.88</td>\n",
       "      <td>19</td>\n",
       "    </tr>\n",
       "    <tr>\n",
       "      <th>2</th>\n",
       "      <td>4</td>\n",
       "      <td>ajinkya</td>\n",
       "      <td>TE</td>\n",
       "      <td>69.66</td>\n",
       "      <td>20</td>\n",
       "    </tr>\n",
       "    <tr>\n",
       "      <th>3</th>\n",
       "      <td>5</td>\n",
       "      <td>asha</td>\n",
       "      <td>TE</td>\n",
       "      <td>63.28</td>\n",
       "      <td>20</td>\n",
       "    </tr>\n",
       "    <tr>\n",
       "      <th>4</th>\n",
       "      <td>6</td>\n",
       "      <td>ayesha</td>\n",
       "      <td>BE</td>\n",
       "      <td>49.55</td>\n",
       "      <td>20</td>\n",
       "    </tr>\n",
       "    <tr>\n",
       "      <th>5</th>\n",
       "      <td>7</td>\n",
       "      <td>amar</td>\n",
       "      <td>BE</td>\n",
       "      <td>65.34</td>\n",
       "      <td>19</td>\n",
       "    </tr>\n",
       "    <tr>\n",
       "      <th>6</th>\n",
       "      <td>8</td>\n",
       "      <td>amita</td>\n",
       "      <td>BE</td>\n",
       "      <td>68.33</td>\n",
       "      <td>23</td>\n",
       "    </tr>\n",
       "    <tr>\n",
       "      <th>7</th>\n",
       "      <td>9</td>\n",
       "      <td>amol</td>\n",
       "      <td>TE</td>\n",
       "      <td>56.75</td>\n",
       "      <td>20</td>\n",
       "    </tr>\n",
       "    <tr>\n",
       "      <th>8</th>\n",
       "      <td>10</td>\n",
       "      <td>anmol</td>\n",
       "      <td>BE</td>\n",
       "      <td>78.66</td>\n",
       "      <td>21</td>\n",
       "    </tr>\n",
       "  </tbody>\n",
       "</table>\n",
       "</div>"
      ],
      "text/plain": [
       "    1     anil  TE  56.77  22\n",
       "0   2     amit  TE  59.77  21\n",
       "1   3   aniket  BE  76.88  19\n",
       "2   4  ajinkya  TE  69.66  20\n",
       "3   5     asha  TE  63.28  20\n",
       "4   6   ayesha  BE  49.55  20\n",
       "5   7     amar  BE  65.34  19\n",
       "6   8    amita  BE  68.33  23\n",
       "7   9     amol  TE  56.75  20\n",
       "8  10    anmol  BE  78.66  21"
      ]
     },
     "execution_count": 32,
     "metadata": {},
     "output_type": "execute_result"
    }
   ],
   "source": [
    "df1"
   ]
  },
  {
   "cell_type": "code",
   "execution_count": 33,
   "id": "765b8513-b400-4364-a952-26e4f4b306eb",
   "metadata": {},
   "outputs": [],
   "source": [
    "cols = ['A','B','C','D','E']"
   ]
  },
  {
   "cell_type": "code",
   "execution_count": 34,
   "id": "83ddb770-bed7-498d-9274-2d074858a77f",
   "metadata": {},
   "outputs": [],
   "source": [
    "df1 = pd.read_csv('student1.csv', names=cols)"
   ]
  },
  {
   "cell_type": "code",
   "execution_count": 35,
   "id": "534d3d73-cb8a-46db-8e00-2a4c29e0d92a",
   "metadata": {},
   "outputs": [
    {
     "data": {
      "text/html": [
       "<div>\n",
       "<style scoped>\n",
       "    .dataframe tbody tr th:only-of-type {\n",
       "        vertical-align: middle;\n",
       "    }\n",
       "\n",
       "    .dataframe tbody tr th {\n",
       "        vertical-align: top;\n",
       "    }\n",
       "\n",
       "    .dataframe thead th {\n",
       "        text-align: right;\n",
       "    }\n",
       "</style>\n",
       "<table border=\"1\" class=\"dataframe\">\n",
       "  <thead>\n",
       "    <tr style=\"text-align: right;\">\n",
       "      <th></th>\n",
       "      <th>A</th>\n",
       "      <th>B</th>\n",
       "      <th>C</th>\n",
       "      <th>D</th>\n",
       "      <th>E</th>\n",
       "    </tr>\n",
       "  </thead>\n",
       "  <tbody>\n",
       "    <tr>\n",
       "      <th>0</th>\n",
       "      <td>1</td>\n",
       "      <td>anil</td>\n",
       "      <td>TE</td>\n",
       "      <td>56.77</td>\n",
       "      <td>22</td>\n",
       "    </tr>\n",
       "    <tr>\n",
       "      <th>1</th>\n",
       "      <td>2</td>\n",
       "      <td>amit</td>\n",
       "      <td>TE</td>\n",
       "      <td>59.77</td>\n",
       "      <td>21</td>\n",
       "    </tr>\n",
       "    <tr>\n",
       "      <th>2</th>\n",
       "      <td>3</td>\n",
       "      <td>aniket</td>\n",
       "      <td>BE</td>\n",
       "      <td>76.88</td>\n",
       "      <td>19</td>\n",
       "    </tr>\n",
       "    <tr>\n",
       "      <th>3</th>\n",
       "      <td>4</td>\n",
       "      <td>ajinkya</td>\n",
       "      <td>TE</td>\n",
       "      <td>69.66</td>\n",
       "      <td>20</td>\n",
       "    </tr>\n",
       "    <tr>\n",
       "      <th>4</th>\n",
       "      <td>5</td>\n",
       "      <td>asha</td>\n",
       "      <td>TE</td>\n",
       "      <td>63.28</td>\n",
       "      <td>20</td>\n",
       "    </tr>\n",
       "    <tr>\n",
       "      <th>5</th>\n",
       "      <td>6</td>\n",
       "      <td>ayesha</td>\n",
       "      <td>BE</td>\n",
       "      <td>49.55</td>\n",
       "      <td>20</td>\n",
       "    </tr>\n",
       "    <tr>\n",
       "      <th>6</th>\n",
       "      <td>7</td>\n",
       "      <td>amar</td>\n",
       "      <td>BE</td>\n",
       "      <td>65.34</td>\n",
       "      <td>19</td>\n",
       "    </tr>\n",
       "    <tr>\n",
       "      <th>7</th>\n",
       "      <td>8</td>\n",
       "      <td>amita</td>\n",
       "      <td>BE</td>\n",
       "      <td>68.33</td>\n",
       "      <td>23</td>\n",
       "    </tr>\n",
       "    <tr>\n",
       "      <th>8</th>\n",
       "      <td>9</td>\n",
       "      <td>amol</td>\n",
       "      <td>TE</td>\n",
       "      <td>56.75</td>\n",
       "      <td>20</td>\n",
       "    </tr>\n",
       "    <tr>\n",
       "      <th>9</th>\n",
       "      <td>10</td>\n",
       "      <td>anmol</td>\n",
       "      <td>BE</td>\n",
       "      <td>78.66</td>\n",
       "      <td>21</td>\n",
       "    </tr>\n",
       "  </tbody>\n",
       "</table>\n",
       "</div>"
      ],
      "text/plain": [
       "    A        B   C      D   E\n",
       "0   1     anil  TE  56.77  22\n",
       "1   2     amit  TE  59.77  21\n",
       "2   3   aniket  BE  76.88  19\n",
       "3   4  ajinkya  TE  69.66  20\n",
       "4   5     asha  TE  63.28  20\n",
       "5   6   ayesha  BE  49.55  20\n",
       "6   7     amar  BE  65.34  19\n",
       "7   8    amita  BE  68.33  23\n",
       "8   9     amol  TE  56.75  20\n",
       "9  10    anmol  BE  78.66  21"
      ]
     },
     "execution_count": 35,
     "metadata": {},
     "output_type": "execute_result"
    }
   ],
   "source": [
    "df1"
   ]
  },
  {
   "cell_type": "code",
   "execution_count": 36,
   "id": "abf94f7d-12fc-4076-8788-aec1179c3afa",
   "metadata": {},
   "outputs": [],
   "source": [
    "df3 = pd.read_csv('student3.tsv')"
   ]
  },
  {
   "cell_type": "code",
   "execution_count": 37,
   "id": "7a48fccd-f4ce-404b-b099-74c34eb53d60",
   "metadata": {},
   "outputs": [
    {
     "data": {
      "text/html": [
       "<div>\n",
       "<style scoped>\n",
       "    .dataframe tbody tr th:only-of-type {\n",
       "        vertical-align: middle;\n",
       "    }\n",
       "\n",
       "    .dataframe tbody tr th {\n",
       "        vertical-align: top;\n",
       "    }\n",
       "\n",
       "    .dataframe thead th {\n",
       "        text-align: right;\n",
       "    }\n",
       "</style>\n",
       "<table border=\"1\" class=\"dataframe\">\n",
       "  <thead>\n",
       "    <tr style=\"text-align: right;\">\n",
       "      <th></th>\n",
       "      <th>roll\\tname\\tclass\\tmarks\\tage</th>\n",
       "    </tr>\n",
       "  </thead>\n",
       "  <tbody>\n",
       "    <tr>\n",
       "      <th>0</th>\n",
       "      <td>1\\tanil\\tTE\\t56.77\\t22</td>\n",
       "    </tr>\n",
       "    <tr>\n",
       "      <th>1</th>\n",
       "      <td>2\\tamit\\tTE\\t59.77\\t21</td>\n",
       "    </tr>\n",
       "    <tr>\n",
       "      <th>2</th>\n",
       "      <td>3\\taniket\\tBE\\t76.88\\t19</td>\n",
       "    </tr>\n",
       "    <tr>\n",
       "      <th>3</th>\n",
       "      <td>4\\tajinkya\\tTE\\t69.66\\t20</td>\n",
       "    </tr>\n",
       "    <tr>\n",
       "      <th>4</th>\n",
       "      <td>5\\tasha\\tTE\\t63.28\\t20</td>\n",
       "    </tr>\n",
       "    <tr>\n",
       "      <th>5</th>\n",
       "      <td>6\\tayesha\\tBE\\t49.55\\t20</td>\n",
       "    </tr>\n",
       "    <tr>\n",
       "      <th>6</th>\n",
       "      <td>7\\tamar\\tBE\\t65.34\\t19</td>\n",
       "    </tr>\n",
       "    <tr>\n",
       "      <th>7</th>\n",
       "      <td>8\\tamita\\tBE\\t68.33\\t23</td>\n",
       "    </tr>\n",
       "    <tr>\n",
       "      <th>8</th>\n",
       "      <td>9\\tamol\\tTE\\t56.75\\t20</td>\n",
       "    </tr>\n",
       "    <tr>\n",
       "      <th>9</th>\n",
       "      <td>10\\tanmol\\tBE\\t78.66\\t21</td>\n",
       "    </tr>\n",
       "  </tbody>\n",
       "</table>\n",
       "</div>"
      ],
      "text/plain": [
       "  roll\\tname\\tclass\\tmarks\\tage\n",
       "0        1\\tanil\\tTE\\t56.77\\t22\n",
       "1        2\\tamit\\tTE\\t59.77\\t21\n",
       "2      3\\taniket\\tBE\\t76.88\\t19\n",
       "3     4\\tajinkya\\tTE\\t69.66\\t20\n",
       "4        5\\tasha\\tTE\\t63.28\\t20\n",
       "5      6\\tayesha\\tBE\\t49.55\\t20\n",
       "6        7\\tamar\\tBE\\t65.34\\t19\n",
       "7       8\\tamita\\tBE\\t68.33\\t23\n",
       "8        9\\tamol\\tTE\\t56.75\\t20\n",
       "9      10\\tanmol\\tBE\\t78.66\\t21"
      ]
     },
     "execution_count": 37,
     "metadata": {},
     "output_type": "execute_result"
    }
   ],
   "source": [
    "df3"
   ]
  },
  {
   "cell_type": "code",
   "execution_count": 38,
   "id": "b7c5ae32-d76b-406b-901c-59902f25b62e",
   "metadata": {},
   "outputs": [
    {
     "data": {
      "text/html": [
       "<div>\n",
       "<style scoped>\n",
       "    .dataframe tbody tr th:only-of-type {\n",
       "        vertical-align: middle;\n",
       "    }\n",
       "\n",
       "    .dataframe tbody tr th {\n",
       "        vertical-align: top;\n",
       "    }\n",
       "\n",
       "    .dataframe thead th {\n",
       "        text-align: right;\n",
       "    }\n",
       "</style>\n",
       "<table border=\"1\" class=\"dataframe\">\n",
       "  <thead>\n",
       "    <tr style=\"text-align: right;\">\n",
       "      <th></th>\n",
       "      <th>roll</th>\n",
       "      <th>name</th>\n",
       "      <th>class</th>\n",
       "      <th>marks</th>\n",
       "      <th>age</th>\n",
       "    </tr>\n",
       "  </thead>\n",
       "  <tbody>\n",
       "    <tr>\n",
       "      <th>0</th>\n",
       "      <td>1</td>\n",
       "      <td>anil</td>\n",
       "      <td>TE</td>\n",
       "      <td>56.77</td>\n",
       "      <td>22</td>\n",
       "    </tr>\n",
       "    <tr>\n",
       "      <th>1</th>\n",
       "      <td>2</td>\n",
       "      <td>amit</td>\n",
       "      <td>TE</td>\n",
       "      <td>59.77</td>\n",
       "      <td>21</td>\n",
       "    </tr>\n",
       "    <tr>\n",
       "      <th>2</th>\n",
       "      <td>3</td>\n",
       "      <td>aniket</td>\n",
       "      <td>BE</td>\n",
       "      <td>76.88</td>\n",
       "      <td>19</td>\n",
       "    </tr>\n",
       "    <tr>\n",
       "      <th>3</th>\n",
       "      <td>4</td>\n",
       "      <td>ajinkya</td>\n",
       "      <td>TE</td>\n",
       "      <td>69.66</td>\n",
       "      <td>20</td>\n",
       "    </tr>\n",
       "    <tr>\n",
       "      <th>4</th>\n",
       "      <td>5</td>\n",
       "      <td>asha</td>\n",
       "      <td>TE</td>\n",
       "      <td>63.28</td>\n",
       "      <td>20</td>\n",
       "    </tr>\n",
       "    <tr>\n",
       "      <th>5</th>\n",
       "      <td>6</td>\n",
       "      <td>ayesha</td>\n",
       "      <td>BE</td>\n",
       "      <td>49.55</td>\n",
       "      <td>20</td>\n",
       "    </tr>\n",
       "    <tr>\n",
       "      <th>6</th>\n",
       "      <td>7</td>\n",
       "      <td>amar</td>\n",
       "      <td>BE</td>\n",
       "      <td>65.34</td>\n",
       "      <td>19</td>\n",
       "    </tr>\n",
       "    <tr>\n",
       "      <th>7</th>\n",
       "      <td>8</td>\n",
       "      <td>amita</td>\n",
       "      <td>BE</td>\n",
       "      <td>68.33</td>\n",
       "      <td>23</td>\n",
       "    </tr>\n",
       "    <tr>\n",
       "      <th>8</th>\n",
       "      <td>9</td>\n",
       "      <td>amol</td>\n",
       "      <td>TE</td>\n",
       "      <td>56.75</td>\n",
       "      <td>20</td>\n",
       "    </tr>\n",
       "    <tr>\n",
       "      <th>9</th>\n",
       "      <td>10</td>\n",
       "      <td>anmol</td>\n",
       "      <td>BE</td>\n",
       "      <td>78.66</td>\n",
       "      <td>21</td>\n",
       "    </tr>\n",
       "  </tbody>\n",
       "</table>\n",
       "</div>"
      ],
      "text/plain": [
       "   roll     name class  marks  age\n",
       "0     1     anil    TE  56.77   22\n",
       "1     2     amit    TE  59.77   21\n",
       "2     3   aniket    BE  76.88   19\n",
       "3     4  ajinkya    TE  69.66   20\n",
       "4     5     asha    TE  63.28   20\n",
       "5     6   ayesha    BE  49.55   20\n",
       "6     7     amar    BE  65.34   19\n",
       "7     8    amita    BE  68.33   23\n",
       "8     9     amol    TE  56.75   20\n",
       "9    10    anmol    BE  78.66   21"
      ]
     },
     "execution_count": 38,
     "metadata": {},
     "output_type": "execute_result"
    }
   ],
   "source": [
    "df3 = pd.read_csv('student3.tsv', sep='\\t')\n",
    "df3"
   ]
  },
  {
   "cell_type": "code",
   "execution_count": 39,
   "id": "b6e77d17-e537-4995-b515-e7ad1e2fbad5",
   "metadata": {},
   "outputs": [],
   "source": [
    "# read from link\n",
    "df2 = pd.read_csv('https://gist.githubusercontent.com/justimchung/9b98c69b30600a46daa6d2e827c31b56/raw/4b1f08ba9b00a2fcd3f7ced9cf9e59062f489c3a/student.csv')"
   ]
  },
  {
   "cell_type": "code",
   "execution_count": 40,
   "id": "fe8e8126-2784-44cb-bdda-773ee2c92dc6",
   "metadata": {},
   "outputs": [
    {
     "data": {
      "text/html": [
       "<div>\n",
       "<style scoped>\n",
       "    .dataframe tbody tr th:only-of-type {\n",
       "        vertical-align: middle;\n",
       "    }\n",
       "\n",
       "    .dataframe tbody tr th {\n",
       "        vertical-align: top;\n",
       "    }\n",
       "\n",
       "    .dataframe thead th {\n",
       "        text-align: right;\n",
       "    }\n",
       "</style>\n",
       "<table border=\"1\" class=\"dataframe\">\n",
       "  <thead>\n",
       "    <tr style=\"text-align: right;\">\n",
       "      <th></th>\n",
       "      <th>Unnamed: 0</th>\n",
       "      <th>Name</th>\n",
       "      <th>height</th>\n",
       "      <th>weight</th>\n",
       "      <th>sex</th>\n",
       "      <th>bdate</th>\n",
       "      <th>city</th>\n",
       "      <th>major</th>\n",
       "    </tr>\n",
       "  </thead>\n",
       "  <tbody>\n",
       "    <tr>\n",
       "      <th>0</th>\n",
       "      <td>s1234567</td>\n",
       "      <td>Peter</td>\n",
       "      <td>175.0</td>\n",
       "      <td>70.45</td>\n",
       "      <td>1</td>\n",
       "      <td>1980/4/30</td>\n",
       "      <td>Tainan</td>\n",
       "      <td>CSIE</td>\n",
       "    </tr>\n",
       "    <tr>\n",
       "      <th>1</th>\n",
       "      <td>e1234567</td>\n",
       "      <td>Mary</td>\n",
       "      <td>163.0</td>\n",
       "      <td>55.00</td>\n",
       "      <td>2</td>\n",
       "      <td>1981/12/21</td>\n",
       "      <td>Taipei</td>\n",
       "      <td>EE</td>\n",
       "    </tr>\n",
       "    <tr>\n",
       "      <th>2</th>\n",
       "      <td>f1357689</td>\n",
       "      <td>John</td>\n",
       "      <td>180.4</td>\n",
       "      <td>80.30</td>\n",
       "      <td>1</td>\n",
       "      <td>1980/5/30</td>\n",
       "      <td>Tainan</td>\n",
       "      <td>Stat</td>\n",
       "    </tr>\n",
       "    <tr>\n",
       "      <th>3</th>\n",
       "      <td>e1374659</td>\n",
       "      <td>Keven</td>\n",
       "      <td>182.5</td>\n",
       "      <td>77.60</td>\n",
       "      <td>1</td>\n",
       "      <td>1980/11/19</td>\n",
       "      <td>Taipei</td>\n",
       "      <td>EE</td>\n",
       "    </tr>\n",
       "    <tr>\n",
       "      <th>4</th>\n",
       "      <td>s7758347</td>\n",
       "      <td>JoJo</td>\n",
       "      <td>170.3</td>\n",
       "      <td>50.30</td>\n",
       "      <td>2</td>\n",
       "      <td>1980/1/27</td>\n",
       "      <td>Taipei</td>\n",
       "      <td>CSIE</td>\n",
       "    </tr>\n",
       "    <tr>\n",
       "      <th>5</th>\n",
       "      <td>s1334987</td>\n",
       "      <td>Emily</td>\n",
       "      <td>168.5</td>\n",
       "      <td>53.60</td>\n",
       "      <td>2</td>\n",
       "      <td>1982/10/13</td>\n",
       "      <td>Kaohsiung</td>\n",
       "      <td>CSIE</td>\n",
       "    </tr>\n",
       "    <tr>\n",
       "      <th>6</th>\n",
       "      <td>e1384726</td>\n",
       "      <td>Ubuntu</td>\n",
       "      <td>177.0</td>\n",
       "      <td>68.30</td>\n",
       "      <td>1</td>\n",
       "      <td>1981/7/6</td>\n",
       "      <td>Kaohsiung</td>\n",
       "      <td>EE</td>\n",
       "    </tr>\n",
       "  </tbody>\n",
       "</table>\n",
       "</div>"
      ],
      "text/plain": [
       "  Unnamed: 0    Name  height  weight  sex       bdate       city major\n",
       "0   s1234567   Peter   175.0   70.45    1   1980/4/30     Tainan  CSIE\n",
       "1   e1234567    Mary   163.0   55.00    2  1981/12/21     Taipei    EE\n",
       "2   f1357689    John   180.4   80.30    1   1980/5/30     Tainan  Stat\n",
       "3   e1374659   Keven   182.5   77.60    1  1980/11/19     Taipei    EE\n",
       "4   s7758347    JoJo   170.3   50.30    2   1980/1/27     Taipei  CSIE\n",
       "5   s1334987   Emily   168.5   53.60    2  1982/10/13  Kaohsiung  CSIE\n",
       "6   e1384726  Ubuntu   177.0   68.30    1    1981/7/6  Kaohsiung    EE"
      ]
     },
     "execution_count": 40,
     "metadata": {},
     "output_type": "execute_result"
    }
   ],
   "source": [
    "df2"
   ]
  },
  {
   "cell_type": "code",
   "execution_count": 41,
   "id": "63cae96e-37c5-4441-a709-d8963a3b1cf3",
   "metadata": {},
   "outputs": [],
   "source": [
    "dfx = pd.read_excel('student.xlsx')"
   ]
  },
  {
   "cell_type": "code",
   "execution_count": 42,
   "id": "3ed12589-3f75-47c2-bdb4-ace410065f12",
   "metadata": {},
   "outputs": [
    {
     "data": {
      "text/html": [
       "<div>\n",
       "<style scoped>\n",
       "    .dataframe tbody tr th:only-of-type {\n",
       "        vertical-align: middle;\n",
       "    }\n",
       "\n",
       "    .dataframe tbody tr th {\n",
       "        vertical-align: top;\n",
       "    }\n",
       "\n",
       "    .dataframe thead th {\n",
       "        text-align: right;\n",
       "    }\n",
       "</style>\n",
       "<table border=\"1\" class=\"dataframe\">\n",
       "  <thead>\n",
       "    <tr style=\"text-align: right;\">\n",
       "      <th></th>\n",
       "      <th>roll</th>\n",
       "      <th>name</th>\n",
       "      <th>class</th>\n",
       "      <th>marks</th>\n",
       "      <th>age</th>\n",
       "    </tr>\n",
       "  </thead>\n",
       "  <tbody>\n",
       "    <tr>\n",
       "      <th>0</th>\n",
       "      <td>1</td>\n",
       "      <td>anil</td>\n",
       "      <td>TE</td>\n",
       "      <td>56.77</td>\n",
       "      <td>22</td>\n",
       "    </tr>\n",
       "    <tr>\n",
       "      <th>1</th>\n",
       "      <td>2</td>\n",
       "      <td>amit</td>\n",
       "      <td>TE</td>\n",
       "      <td>59.77</td>\n",
       "      <td>21</td>\n",
       "    </tr>\n",
       "    <tr>\n",
       "      <th>2</th>\n",
       "      <td>3</td>\n",
       "      <td>aniket</td>\n",
       "      <td>BE</td>\n",
       "      <td>76.88</td>\n",
       "      <td>19</td>\n",
       "    </tr>\n",
       "    <tr>\n",
       "      <th>3</th>\n",
       "      <td>4</td>\n",
       "      <td>ajinkya</td>\n",
       "      <td>TE</td>\n",
       "      <td>69.66</td>\n",
       "      <td>20</td>\n",
       "    </tr>\n",
       "    <tr>\n",
       "      <th>4</th>\n",
       "      <td>5</td>\n",
       "      <td>asha</td>\n",
       "      <td>TE</td>\n",
       "      <td>63.28</td>\n",
       "      <td>20</td>\n",
       "    </tr>\n",
       "    <tr>\n",
       "      <th>5</th>\n",
       "      <td>6</td>\n",
       "      <td>ayesha</td>\n",
       "      <td>BE</td>\n",
       "      <td>49.55</td>\n",
       "      <td>20</td>\n",
       "    </tr>\n",
       "    <tr>\n",
       "      <th>6</th>\n",
       "      <td>7</td>\n",
       "      <td>amar</td>\n",
       "      <td>BE</td>\n",
       "      <td>65.34</td>\n",
       "      <td>19</td>\n",
       "    </tr>\n",
       "    <tr>\n",
       "      <th>7</th>\n",
       "      <td>8</td>\n",
       "      <td>amita</td>\n",
       "      <td>BE</td>\n",
       "      <td>68.33</td>\n",
       "      <td>23</td>\n",
       "    </tr>\n",
       "    <tr>\n",
       "      <th>8</th>\n",
       "      <td>9</td>\n",
       "      <td>amol</td>\n",
       "      <td>TE</td>\n",
       "      <td>56.75</td>\n",
       "      <td>20</td>\n",
       "    </tr>\n",
       "    <tr>\n",
       "      <th>9</th>\n",
       "      <td>10</td>\n",
       "      <td>anmol</td>\n",
       "      <td>BE</td>\n",
       "      <td>78.66</td>\n",
       "      <td>21</td>\n",
       "    </tr>\n",
       "  </tbody>\n",
       "</table>\n",
       "</div>"
      ],
      "text/plain": [
       "   roll     name class  marks  age\n",
       "0     1     anil    TE  56.77   22\n",
       "1     2     amit    TE  59.77   21\n",
       "2     3   aniket    BE  76.88   19\n",
       "3     4  ajinkya    TE  69.66   20\n",
       "4     5     asha    TE  63.28   20\n",
       "5     6   ayesha    BE  49.55   20\n",
       "6     7     amar    BE  65.34   19\n",
       "7     8    amita    BE  68.33   23\n",
       "8     9     amol    TE  56.75   20\n",
       "9    10    anmol    BE  78.66   21"
      ]
     },
     "execution_count": 42,
     "metadata": {},
     "output_type": "execute_result"
    }
   ],
   "source": [
    "dfx"
   ]
  },
  {
   "cell_type": "code",
   "execution_count": 43,
   "id": "d5426a5e-7d4d-4809-94a5-fd4ed9c58c59",
   "metadata": {},
   "outputs": [
    {
     "data": {
      "text/plain": [
       "(10, 5)"
      ]
     },
     "execution_count": 43,
     "metadata": {},
     "output_type": "execute_result"
    }
   ],
   "source": [
    "df.shape"
   ]
  },
  {
   "cell_type": "code",
   "execution_count": 44,
   "id": "0f99c3fe-a5ba-4704-a12c-bd2c71df4120",
   "metadata": {},
   "outputs": [
    {
     "data": {
      "text/plain": [
       "50"
      ]
     },
     "execution_count": 44,
     "metadata": {},
     "output_type": "execute_result"
    }
   ],
   "source": [
    "df.size"
   ]
  },
  {
   "cell_type": "code",
   "execution_count": 45,
   "id": "ea48d646-d03a-4fed-bc2c-5caec13b63e8",
   "metadata": {},
   "outputs": [
    {
     "data": {
      "text/plain": [
       "Index(['roll', 'name', 'class', 'marks', 'age'], dtype='object')"
      ]
     },
     "execution_count": 45,
     "metadata": {},
     "output_type": "execute_result"
    }
   ],
   "source": [
    "df.columns"
   ]
  },
  {
   "cell_type": "code",
   "execution_count": 46,
   "id": "a4c45868-bf28-42a8-8411-9a973040a809",
   "metadata": {},
   "outputs": [
    {
     "data": {
      "text/plain": [
       "roll       int64\n",
       "name      object\n",
       "class     object\n",
       "marks    float64\n",
       "age        int64\n",
       "dtype: object"
      ]
     },
     "execution_count": 46,
     "metadata": {},
     "output_type": "execute_result"
    }
   ],
   "source": [
    "df.dtypes"
   ]
  },
  {
   "cell_type": "code",
   "execution_count": 47,
   "id": "05e8b79d-f7f1-49ad-89ba-600908007502",
   "metadata": {},
   "outputs": [
    {
     "data": {
      "text/plain": [
       "2"
      ]
     },
     "execution_count": 47,
     "metadata": {},
     "output_type": "execute_result"
    }
   ],
   "source": [
    "df.ndim"
   ]
  },
  {
   "cell_type": "code",
   "execution_count": 48,
   "id": "194cd7b5-c098-4b4f-abd0-6a43e3ccc72f",
   "metadata": {},
   "outputs": [
    {
     "data": {
      "text/plain": [
       "RangeIndex(start=0, stop=10, step=1)"
      ]
     },
     "execution_count": 48,
     "metadata": {},
     "output_type": "execute_result"
    }
   ],
   "source": [
    "df.index"
   ]
  },
  {
   "cell_type": "code",
   "execution_count": 49,
   "id": "d0ae33e5-e5e2-4036-89f1-6fa5f9ed571b",
   "metadata": {},
   "outputs": [
    {
     "data": {
      "text/html": [
       "<div>\n",
       "<style scoped>\n",
       "    .dataframe tbody tr th:only-of-type {\n",
       "        vertical-align: middle;\n",
       "    }\n",
       "\n",
       "    .dataframe tbody tr th {\n",
       "        vertical-align: top;\n",
       "    }\n",
       "\n",
       "    .dataframe thead th {\n",
       "        text-align: right;\n",
       "    }\n",
       "</style>\n",
       "<table border=\"1\" class=\"dataframe\">\n",
       "  <thead>\n",
       "    <tr style=\"text-align: right;\">\n",
       "      <th></th>\n",
       "      <th>0</th>\n",
       "      <th>1</th>\n",
       "      <th>2</th>\n",
       "      <th>3</th>\n",
       "      <th>4</th>\n",
       "      <th>5</th>\n",
       "      <th>6</th>\n",
       "      <th>7</th>\n",
       "      <th>8</th>\n",
       "      <th>9</th>\n",
       "    </tr>\n",
       "  </thead>\n",
       "  <tbody>\n",
       "    <tr>\n",
       "      <th>roll</th>\n",
       "      <td>1</td>\n",
       "      <td>2</td>\n",
       "      <td>3</td>\n",
       "      <td>4</td>\n",
       "      <td>5</td>\n",
       "      <td>6</td>\n",
       "      <td>7</td>\n",
       "      <td>8</td>\n",
       "      <td>9</td>\n",
       "      <td>10</td>\n",
       "    </tr>\n",
       "    <tr>\n",
       "      <th>name</th>\n",
       "      <td>anil</td>\n",
       "      <td>amit</td>\n",
       "      <td>aniket</td>\n",
       "      <td>ajinkya</td>\n",
       "      <td>asha</td>\n",
       "      <td>ayesha</td>\n",
       "      <td>amar</td>\n",
       "      <td>amita</td>\n",
       "      <td>amol</td>\n",
       "      <td>anmol</td>\n",
       "    </tr>\n",
       "    <tr>\n",
       "      <th>class</th>\n",
       "      <td>TE</td>\n",
       "      <td>TE</td>\n",
       "      <td>BE</td>\n",
       "      <td>TE</td>\n",
       "      <td>TE</td>\n",
       "      <td>BE</td>\n",
       "      <td>BE</td>\n",
       "      <td>BE</td>\n",
       "      <td>TE</td>\n",
       "      <td>BE</td>\n",
       "    </tr>\n",
       "    <tr>\n",
       "      <th>marks</th>\n",
       "      <td>56.77</td>\n",
       "      <td>59.77</td>\n",
       "      <td>76.88</td>\n",
       "      <td>69.66</td>\n",
       "      <td>63.28</td>\n",
       "      <td>49.55</td>\n",
       "      <td>65.34</td>\n",
       "      <td>68.33</td>\n",
       "      <td>56.75</td>\n",
       "      <td>78.66</td>\n",
       "    </tr>\n",
       "    <tr>\n",
       "      <th>age</th>\n",
       "      <td>22</td>\n",
       "      <td>21</td>\n",
       "      <td>19</td>\n",
       "      <td>20</td>\n",
       "      <td>20</td>\n",
       "      <td>20</td>\n",
       "      <td>19</td>\n",
       "      <td>23</td>\n",
       "      <td>20</td>\n",
       "      <td>21</td>\n",
       "    </tr>\n",
       "  </tbody>\n",
       "</table>\n",
       "</div>"
      ],
      "text/plain": [
       "           0      1       2        3      4       5      6      7      8  \\\n",
       "roll       1      2       3        4      5       6      7      8      9   \n",
       "name    anil   amit  aniket  ajinkya   asha  ayesha   amar  amita   amol   \n",
       "class     TE     TE      BE       TE     TE      BE     BE     BE     TE   \n",
       "marks  56.77  59.77   76.88    69.66  63.28   49.55  65.34  68.33  56.75   \n",
       "age       22     21      19       20     20      20     19     23     20   \n",
       "\n",
       "           9  \n",
       "roll      10  \n",
       "name   anmol  \n",
       "class     BE  \n",
       "marks  78.66  \n",
       "age       21  "
      ]
     },
     "execution_count": 49,
     "metadata": {},
     "output_type": "execute_result"
    }
   ],
   "source": [
    "df.T"
   ]
  },
  {
   "cell_type": "markdown",
   "id": "f714b71e-8de5-4958-b7df-9d1b7c088a88",
   "metadata": {},
   "source": [
    "## Functions and methods"
   ]
  },
  {
   "cell_type": "code",
   "execution_count": 50,
   "id": "4919fa24-7f77-42a7-a822-c57a6a04e1b2",
   "metadata": {},
   "outputs": [
    {
     "data": {
      "text/html": [
       "<div>\n",
       "<style scoped>\n",
       "    .dataframe tbody tr th:only-of-type {\n",
       "        vertical-align: middle;\n",
       "    }\n",
       "\n",
       "    .dataframe tbody tr th {\n",
       "        vertical-align: top;\n",
       "    }\n",
       "\n",
       "    .dataframe thead th {\n",
       "        text-align: right;\n",
       "    }\n",
       "</style>\n",
       "<table border=\"1\" class=\"dataframe\">\n",
       "  <thead>\n",
       "    <tr style=\"text-align: right;\">\n",
       "      <th></th>\n",
       "      <th>roll</th>\n",
       "      <th>name</th>\n",
       "      <th>class</th>\n",
       "      <th>marks</th>\n",
       "      <th>age</th>\n",
       "    </tr>\n",
       "  </thead>\n",
       "  <tbody>\n",
       "    <tr>\n",
       "      <th>0</th>\n",
       "      <td>1</td>\n",
       "      <td>anil</td>\n",
       "      <td>TE</td>\n",
       "      <td>56.77</td>\n",
       "      <td>22</td>\n",
       "    </tr>\n",
       "    <tr>\n",
       "      <th>1</th>\n",
       "      <td>2</td>\n",
       "      <td>amit</td>\n",
       "      <td>TE</td>\n",
       "      <td>59.77</td>\n",
       "      <td>21</td>\n",
       "    </tr>\n",
       "    <tr>\n",
       "      <th>2</th>\n",
       "      <td>3</td>\n",
       "      <td>aniket</td>\n",
       "      <td>BE</td>\n",
       "      <td>76.88</td>\n",
       "      <td>19</td>\n",
       "    </tr>\n",
       "    <tr>\n",
       "      <th>3</th>\n",
       "      <td>4</td>\n",
       "      <td>ajinkya</td>\n",
       "      <td>TE</td>\n",
       "      <td>69.66</td>\n",
       "      <td>20</td>\n",
       "    </tr>\n",
       "    <tr>\n",
       "      <th>4</th>\n",
       "      <td>5</td>\n",
       "      <td>asha</td>\n",
       "      <td>TE</td>\n",
       "      <td>63.28</td>\n",
       "      <td>20</td>\n",
       "    </tr>\n",
       "  </tbody>\n",
       "</table>\n",
       "</div>"
      ],
      "text/plain": [
       "   roll     name class  marks  age\n",
       "0     1     anil    TE  56.77   22\n",
       "1     2     amit    TE  59.77   21\n",
       "2     3   aniket    BE  76.88   19\n",
       "3     4  ajinkya    TE  69.66   20\n",
       "4     5     asha    TE  63.28   20"
      ]
     },
     "execution_count": 50,
     "metadata": {},
     "output_type": "execute_result"
    }
   ],
   "source": [
    "df.head()"
   ]
  },
  {
   "cell_type": "code",
   "execution_count": 51,
   "id": "b678a6f4-4864-4c82-bb49-c8944033e0d4",
   "metadata": {},
   "outputs": [
    {
     "data": {
      "text/html": [
       "<div>\n",
       "<style scoped>\n",
       "    .dataframe tbody tr th:only-of-type {\n",
       "        vertical-align: middle;\n",
       "    }\n",
       "\n",
       "    .dataframe tbody tr th {\n",
       "        vertical-align: top;\n",
       "    }\n",
       "\n",
       "    .dataframe thead th {\n",
       "        text-align: right;\n",
       "    }\n",
       "</style>\n",
       "<table border=\"1\" class=\"dataframe\">\n",
       "  <thead>\n",
       "    <tr style=\"text-align: right;\">\n",
       "      <th></th>\n",
       "      <th>roll</th>\n",
       "      <th>name</th>\n",
       "      <th>class</th>\n",
       "      <th>marks</th>\n",
       "      <th>age</th>\n",
       "    </tr>\n",
       "  </thead>\n",
       "  <tbody>\n",
       "    <tr>\n",
       "      <th>5</th>\n",
       "      <td>6</td>\n",
       "      <td>ayesha</td>\n",
       "      <td>BE</td>\n",
       "      <td>49.55</td>\n",
       "      <td>20</td>\n",
       "    </tr>\n",
       "    <tr>\n",
       "      <th>6</th>\n",
       "      <td>7</td>\n",
       "      <td>amar</td>\n",
       "      <td>BE</td>\n",
       "      <td>65.34</td>\n",
       "      <td>19</td>\n",
       "    </tr>\n",
       "    <tr>\n",
       "      <th>7</th>\n",
       "      <td>8</td>\n",
       "      <td>amita</td>\n",
       "      <td>BE</td>\n",
       "      <td>68.33</td>\n",
       "      <td>23</td>\n",
       "    </tr>\n",
       "    <tr>\n",
       "      <th>8</th>\n",
       "      <td>9</td>\n",
       "      <td>amol</td>\n",
       "      <td>TE</td>\n",
       "      <td>56.75</td>\n",
       "      <td>20</td>\n",
       "    </tr>\n",
       "    <tr>\n",
       "      <th>9</th>\n",
       "      <td>10</td>\n",
       "      <td>anmol</td>\n",
       "      <td>BE</td>\n",
       "      <td>78.66</td>\n",
       "      <td>21</td>\n",
       "    </tr>\n",
       "  </tbody>\n",
       "</table>\n",
       "</div>"
      ],
      "text/plain": [
       "   roll    name class  marks  age\n",
       "5     6  ayesha    BE  49.55   20\n",
       "6     7    amar    BE  65.34   19\n",
       "7     8   amita    BE  68.33   23\n",
       "8     9    amol    TE  56.75   20\n",
       "9    10   anmol    BE  78.66   21"
      ]
     },
     "execution_count": 51,
     "metadata": {},
     "output_type": "execute_result"
    }
   ],
   "source": [
    "df.tail()"
   ]
  },
  {
   "cell_type": "code",
   "execution_count": 52,
   "id": "cde6d606-4394-404b-b013-adab1b6fdb36",
   "metadata": {},
   "outputs": [
    {
     "data": {
      "text/html": [
       "<div>\n",
       "<style scoped>\n",
       "    .dataframe tbody tr th:only-of-type {\n",
       "        vertical-align: middle;\n",
       "    }\n",
       "\n",
       "    .dataframe tbody tr th {\n",
       "        vertical-align: top;\n",
       "    }\n",
       "\n",
       "    .dataframe thead th {\n",
       "        text-align: right;\n",
       "    }\n",
       "</style>\n",
       "<table border=\"1\" class=\"dataframe\">\n",
       "  <thead>\n",
       "    <tr style=\"text-align: right;\">\n",
       "      <th></th>\n",
       "      <th>roll</th>\n",
       "      <th>name</th>\n",
       "      <th>class</th>\n",
       "      <th>marks</th>\n",
       "      <th>age</th>\n",
       "    </tr>\n",
       "  </thead>\n",
       "  <tbody>\n",
       "    <tr>\n",
       "      <th>8</th>\n",
       "      <td>9</td>\n",
       "      <td>amol</td>\n",
       "      <td>TE</td>\n",
       "      <td>56.75</td>\n",
       "      <td>20</td>\n",
       "    </tr>\n",
       "    <tr>\n",
       "      <th>9</th>\n",
       "      <td>10</td>\n",
       "      <td>anmol</td>\n",
       "      <td>BE</td>\n",
       "      <td>78.66</td>\n",
       "      <td>21</td>\n",
       "    </tr>\n",
       "  </tbody>\n",
       "</table>\n",
       "</div>"
      ],
      "text/plain": [
       "   roll   name class  marks  age\n",
       "8     9   amol    TE  56.75   20\n",
       "9    10  anmol    BE  78.66   21"
      ]
     },
     "execution_count": 52,
     "metadata": {},
     "output_type": "execute_result"
    }
   ],
   "source": [
    "df.tail(2)"
   ]
  }
 ],
 "metadata": {
  "kernelspec": {
   "display_name": "python3.11.5",
   "language": "python",
   "name": "python3.11.5"
  },
  "language_info": {
   "codemirror_mode": {
    "name": "ipython",
    "version": 3
   },
   "file_extension": ".py",
   "mimetype": "text/x-python",
   "name": "python",
   "nbconvert_exporter": "python",
   "pygments_lexer": "ipython3",
   "version": "3.11.5"
  }
 },
 "nbformat": 4,
 "nbformat_minor": 5
}
